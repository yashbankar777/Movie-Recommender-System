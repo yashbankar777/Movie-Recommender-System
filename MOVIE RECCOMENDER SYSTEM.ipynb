{
 "cells": [
  {
   "cell_type": "code",
   "execution_count": 1,
   "metadata": {
    "_cell_guid": "b1076dfc-b9ad-4769-8c92-a6c4dae69d19",
    "_uuid": "8f2839f25d086af736a60e9eeb907d3b93b6e0e5",
    "execution": {
     "iopub.execute_input": "2021-06-21T12:32:55.394360Z",
     "iopub.status.busy": "2021-06-21T12:32:55.393741Z",
     "iopub.status.idle": "2021-06-21T12:32:55.415999Z",
     "shell.execute_reply": "2021-06-21T12:32:55.414664Z",
     "shell.execute_reply.started": "2021-06-21T12:32:55.394257Z"
    }
   },
   "outputs": [],
   "source": [
    "\n",
    "import numpy as np \n",
    "import pandas as pd \n",
    "\n",
    "\n",
    "import os\n",
    "for dirname, _, filenames in os.walk('/kaggle/input'):\n",
    "    for filename in filenames:\n",
    "        print(os.path.join(dirname, filename))\n"
   ]
  },
  {
   "cell_type": "code",
   "execution_count": 2,
   "metadata": {
    "execution": {
     "iopub.execute_input": "2021-06-21T12:36:31.348105Z",
     "iopub.status.busy": "2021-06-21T12:36:31.347717Z",
     "iopub.status.idle": "2021-06-21T12:36:32.003856Z",
     "shell.execute_reply": "2021-06-21T12:36:32.002744Z",
     "shell.execute_reply.started": "2021-06-21T12:36:31.348073Z"
    }
   },
   "outputs": [
    {
     "name": "stderr",
     "output_type": "stream",
     "text": [
      "C:\\Users\\YASH\\AppData\\Local\\Temp\\ipykernel_12472\\2591081726.py:2: DtypeWarning: Columns (0,4,5,6,7,8,9,10,11,12,13,14,15,16,17,18,19,20,21,22,23,24,25,26,27,28,29,30,31,32,33,34,35,36,37,38,39,40,41,42,43,44,45,46,47,48,49,50,51,52,53,54,55,56,57,58,59,60,61,62,63,64,65,66,67,68,69,70,71,72,73,74,75,76,77,78,79,80,81,82,83,84,85,86,87,88,89,90,91,92,93,94,95,96,97,98,99,100,101,102,103,104,105,106,107,108,109,110,111,112,113,114,115,116,117,118,119,120,121,122,123,124,125,126,127,128,129,130,131,132,133,134,135,136,137,138,139,140,141,142,143,144,145,146,147,148,149,150,151,152,153,154,155,156,157,158,159,160,161,162,163,164,165,166,167,168,169,170,171,172,173,174,175,176,177,178,179,180,181,182,183,184,185,186,187,188,189,190,191,192,193,194,195,196,197,198,199,200,201,202,203,204,205,206,207,208,209,210,211,212,213,214,215,216,217,218,219,220,221,222,223,224,225,226,227,228,229,230,231,232,233,234,235,236,237,238,239,240,241,242,243,244,245,246,247,248,249,250,251,252,253,254,255,256,257,258,259,260,261,262,263,264,265,266,267,268,269,270,271,272,273,274,275,276,277,278,279,280,281,282,283,284,285,286,287,288,289,290,291,292,293,294,295,296,297,298,299,300,301,302,303,304,305,306,307,308,309,310,311,312,313,314,315,316,317,318,319,320,321,322,323,324,325,326,327,328,329,330,331,332,333,334,335,336,337,338,339,340,341,342,343,344,345,346,347,348,349,350,351,352,353,354,355,356,357,358,359,360,361,362,363,364,365,366,367,368,369,370,371,372,373,374,375,376,377,378,379,380,381,382,383,384,385,386,387,388,389,390,391,392,393,394,395,396,397,398,399,400,401,402,403,404,405,406,407,408,409,410,411,412,413,414,415,416,417,418,419,420,421,422,423,424,425,426,427,428,429,430,431,432,433,434,435,436,437,438,439,440,441,442,443,444,445,446,447,448,449,450,451,452,453,454,455,456,457,458,459,460,461,462,463,464,465,466,467,468,469,470,471,472,473,474,475,476,477,478,479,480,481,482,483,484,485,486,487,488,489,490,491,492,493,494,495,496,497,498,499,500,501,502,503,504,505,506,507,508,509,510,511,512,513,514,515,516,517,518,519,520,521,522,523,524,525,526,527,528,529,530,531,532,533,534,535,536,537,538,539,540,541,542,543,544,545,546,547,548,549,550,551,552,553,554,555,556,557,558,559,560,561,562,563,564,565,566,567,568,569,570,571,572,573,574,575,576,577,578,579,580,581,582,583,584,585,586,587,588,589,590,591,592,593,594,595,596,597,598,599,600,601,602,603,604,605,606,607,608,609,610,611,612,613,614,615,616,617,618,619,620,621,622,623,624,625,626,627,628,629,630,631,632,633,634,635,636,637,638,639,640,641,642,643,644,645,646,647,648,649,650,651,652,653,654,655,656,657,658,659,660,661,662,663,664,665,666,667,668,669,670,671,672,673,674,675,676,677,678,679,680,681,682,683,684,685,686,687,688,689,690,691,692,693,694,695,696,697,698,699,700,701,702,703,704,705,706,707,708,709,710,711,712,713,714,715,716,717,718,719,720,721,722,723,724,725,726,727,728,729,730,731,732,733,734,735,736,737,738,739,740,741,742,743,744,745,746,747,748,749,750,751,752,753,754,755,756,757,758,759,760,761,762,763,764,765,766,767,768,769,770,771,772,773,774,775,776,777,778,779,780,781,782,783,784,785,786,787,788,789,790,791,792,793,794,795,796,797,798,799,800,801,802,803,804,805,806,807,808,809,810,811,812,813,814,815,816,817,818,819,820,821,822,823,824,825,826,827,828,829,830,831,832,833,834,835,836,837,838,839,840,841,842,843,844,845,846,847,848,849,850,851,852,853,854,855,856,857,858,859,860,861,862,863,864,865,866,867,868,869,870,871,872,873,874,875,876,877,878,879,880,881,882,883,884,885,886,887,888,889,890,891,892,893,894,895,896,897,898,899,900,901,902,903,904,905,906,907,908,909,910,911,912,913,914,915,916,917,918,919,920,921,922,923,924,925,926,927,928,929,930,931,932,933,934,935,936,937,938,939,940,941,942,943,944,945,946,947,948,949,950,951,952,953,954,955,956,957,958,959,960,961,962,963,964,965,966,967,968,969,970,971,972,973,974,975,976,977,978,979,980,981,982,983,984,985,986,987,988,989,990,991,992,993,994,995,996,997,998,999,1000,1001,1002,1003,1004,1005,1006,1007,1008,1009,1010,1011,1012,1013,1014,1015,1016,1017,1018,1019,1020,1021,1022,1023,1024,1025,1026,1027,1028,1029,1030,1031,1032,1033,1034,1035,1036,1037,1038,1039,1040,1041,1042,1043,1044,1045,1046,1047,1048,1049,1050,1051,1052,1053,1054,1055,1056,1057,1058,1059,1060,1061,1062,1063,1064,1065,1066,1067,1068,1069,1070,1071,1072,1073,1074,1075,1076,1077,1078,1079,1080,1081,1082,1083,1084,1085,1086,1087,1088,1089,1090,1091,1092,1093,1094,1095,1096,1097,1098,1099,1100,1101,1102,1103,1104,1105,1106,1107,1108,1109,1110,1111,1112,1113,1114,1115,1116,1117,1118,1119,1120,1121,1122,1123,1124,1125,1126,1127,1128,1129,1130,1131,1132,1133,1134,1135,1136,1137,1138,1139,1140,1141,1142,1143,1144,1145,1146,1147,1148,1149,1150,1151,1152,1153,1154,1155,1156,1157,1158,1159,1160,1161,1162,1163,1164,1165,1166,1167,1168,1169,1170,1171,1172,1173,1174,1175,1176,1177,1178,1179,1180,1181,1182,1183,1184,1185,1186,1187,1188,1189,1190,1191,1192,1193,1194,1195,1196,1197,1198,1199,1200,1201,1202,1203,1204,1205,1206,1207,1208,1209,1210,1211,1212,1213,1214,1215,1216,1217,1218,1219,1220,1221,1222,1223,1224,1225,1226,1227,1228,1229,1230,1231,1232,1233,1234,1235,1236,1237,1238,1239,1240,1241,1242,1243,1244,1245,1246,1247,1248,1249,1250,1251,1252,1253,1254,1255,1256,1257,1258,1259,1260,1261,1262,1263,1264) have mixed types. Specify dtype option on import or set low_memory=False.\n",
      "  credits = pd.read_csv(r\"C:\\Users\\YASH\\Desktop\\Test Jupyter\\movie-recommender-system\\tmdb_5000_credits.csv\")\n"
     ]
    }
   ],
   "source": [
    "movies = pd.read_csv(r\"C:\\Users\\YASH\\Desktop\\Test Jupyter\\movie-recommender-system\\tmdb_5000-movies.csv\")\n",
    "credits = pd.read_csv(r\"C:\\Users\\YASH\\Desktop\\Test Jupyter\\movie-recommender-system\\tmdb_5000_credits.csv\") "
   ]
  },
  {
   "cell_type": "code",
   "execution_count": 3,
   "metadata": {
    "execution": {
     "iopub.execute_input": "2021-06-21T12:36:33.757778Z",
     "iopub.status.busy": "2021-06-21T12:36:33.757346Z",
     "iopub.status.idle": "2021-06-21T12:36:33.781729Z",
     "shell.execute_reply": "2021-06-21T12:36:33.780738Z",
     "shell.execute_reply.started": "2021-06-21T12:36:33.757743Z"
    }
   },
   "outputs": [
    {
     "data": {
      "text/html": [
       "<div>\n",
       "<style scoped>\n",
       "    .dataframe tbody tr th:only-of-type {\n",
       "        vertical-align: middle;\n",
       "    }\n",
       "\n",
       "    .dataframe tbody tr th {\n",
       "        vertical-align: top;\n",
       "    }\n",
       "\n",
       "    .dataframe thead th {\n",
       "        text-align: right;\n",
       "    }\n",
       "</style>\n",
       "<table border=\"1\" class=\"dataframe\">\n",
       "  <thead>\n",
       "    <tr style=\"text-align: right;\">\n",
       "      <th></th>\n",
       "      <th>budget</th>\n",
       "      <th>genres</th>\n",
       "      <th>homepage</th>\n",
       "      <th>id</th>\n",
       "      <th>keywords</th>\n",
       "      <th>original_language</th>\n",
       "      <th>original_title</th>\n",
       "      <th>overview</th>\n",
       "      <th>popularity</th>\n",
       "      <th>production_companies</th>\n",
       "      <th>production_countries</th>\n",
       "      <th>release_date</th>\n",
       "      <th>revenue</th>\n",
       "      <th>runtime</th>\n",
       "      <th>spoken_languages</th>\n",
       "      <th>status</th>\n",
       "      <th>tagline</th>\n",
       "      <th>title</th>\n",
       "      <th>vote_average</th>\n",
       "      <th>vote_count</th>\n",
       "    </tr>\n",
       "  </thead>\n",
       "  <tbody>\n",
       "    <tr>\n",
       "      <th>0</th>\n",
       "      <td>237000000</td>\n",
       "      <td>[{\"id\": 28, \"name\": \"Action\"}, {\"id\": 12, \"nam...</td>\n",
       "      <td>http://www.avatarmovie.com/</td>\n",
       "      <td>19995</td>\n",
       "      <td>[{\"id\": 1463, \"name\": \"culture clash\"}, {\"id\":...</td>\n",
       "      <td>en</td>\n",
       "      <td>Avatar</td>\n",
       "      <td>In the 22nd century, a paraplegic Marine is di...</td>\n",
       "      <td>150.437577</td>\n",
       "      <td>[{\"name\": \"Ingenious Film Partners\", \"id\": 289...</td>\n",
       "      <td>[{\"iso_3166_1\": \"US\", \"name\": \"United States o...</td>\n",
       "      <td>10-12-2009</td>\n",
       "      <td>2787965087</td>\n",
       "      <td>162.0</td>\n",
       "      <td>[{\"iso_639_1\": \"en\", \"name\": \"English\"}, {\"iso...</td>\n",
       "      <td>Released</td>\n",
       "      <td>Enter the World of Pandora.</td>\n",
       "      <td>Avatar</td>\n",
       "      <td>7.2</td>\n",
       "      <td>11800</td>\n",
       "    </tr>\n",
       "    <tr>\n",
       "      <th>1</th>\n",
       "      <td>300000000</td>\n",
       "      <td>[{\"id\": 12, \"name\": \"Adventure\"}, {\"id\": 14, \"...</td>\n",
       "      <td>http://disney.go.com/disneypictures/pirates/</td>\n",
       "      <td>285</td>\n",
       "      <td>[{\"id\": 270, \"name\": \"ocean\"}, {\"id\": 726, \"na...</td>\n",
       "      <td>en</td>\n",
       "      <td>Pirates of the Caribbean: At World's End</td>\n",
       "      <td>Captain Barbossa, long believed to be dead, ha...</td>\n",
       "      <td>139.082615</td>\n",
       "      <td>[{\"name\": \"Walt Disney Pictures\", \"id\": 2}, {\"...</td>\n",
       "      <td>[{\"iso_3166_1\": \"US\", \"name\": \"United States o...</td>\n",
       "      <td>19-05-2007</td>\n",
       "      <td>961000000</td>\n",
       "      <td>169.0</td>\n",
       "      <td>[{\"iso_639_1\": \"en\", \"name\": \"English\"}]</td>\n",
       "      <td>Released</td>\n",
       "      <td>At the end of the world, the adventure begins.</td>\n",
       "      <td>Pirates of the Caribbean: At World's End</td>\n",
       "      <td>6.9</td>\n",
       "      <td>4500</td>\n",
       "    </tr>\n",
       "  </tbody>\n",
       "</table>\n",
       "</div>"
      ],
      "text/plain": [
       "      budget                                             genres  \\\n",
       "0  237000000  [{\"id\": 28, \"name\": \"Action\"}, {\"id\": 12, \"nam...   \n",
       "1  300000000  [{\"id\": 12, \"name\": \"Adventure\"}, {\"id\": 14, \"...   \n",
       "\n",
       "                                       homepage     id  \\\n",
       "0                   http://www.avatarmovie.com/  19995   \n",
       "1  http://disney.go.com/disneypictures/pirates/    285   \n",
       "\n",
       "                                            keywords original_language  \\\n",
       "0  [{\"id\": 1463, \"name\": \"culture clash\"}, {\"id\":...                en   \n",
       "1  [{\"id\": 270, \"name\": \"ocean\"}, {\"id\": 726, \"na...                en   \n",
       "\n",
       "                             original_title  \\\n",
       "0                                    Avatar   \n",
       "1  Pirates of the Caribbean: At World's End   \n",
       "\n",
       "                                            overview  popularity  \\\n",
       "0  In the 22nd century, a paraplegic Marine is di...  150.437577   \n",
       "1  Captain Barbossa, long believed to be dead, ha...  139.082615   \n",
       "\n",
       "                                production_companies  \\\n",
       "0  [{\"name\": \"Ingenious Film Partners\", \"id\": 289...   \n",
       "1  [{\"name\": \"Walt Disney Pictures\", \"id\": 2}, {\"...   \n",
       "\n",
       "                                production_countries release_date     revenue  \\\n",
       "0  [{\"iso_3166_1\": \"US\", \"name\": \"United States o...   10-12-2009  2787965087   \n",
       "1  [{\"iso_3166_1\": \"US\", \"name\": \"United States o...   19-05-2007   961000000   \n",
       "\n",
       "   runtime                                   spoken_languages    status  \\\n",
       "0    162.0  [{\"iso_639_1\": \"en\", \"name\": \"English\"}, {\"iso...  Released   \n",
       "1    169.0           [{\"iso_639_1\": \"en\", \"name\": \"English\"}]  Released   \n",
       "\n",
       "                                          tagline  \\\n",
       "0                     Enter the World of Pandora.   \n",
       "1  At the end of the world, the adventure begins.   \n",
       "\n",
       "                                      title  vote_average  vote_count  \n",
       "0                                    Avatar           7.2       11800  \n",
       "1  Pirates of the Caribbean: At World's End           6.9        4500  "
      ]
     },
     "execution_count": 3,
     "metadata": {},
     "output_type": "execute_result"
    }
   ],
   "source": [
    "movies.head(2)"
   ]
  },
  {
   "cell_type": "code",
   "execution_count": 4,
   "metadata": {
    "execution": {
     "iopub.execute_input": "2021-06-21T12:33:06.308311Z",
     "iopub.status.busy": "2021-06-21T12:33:06.307921Z",
     "iopub.status.idle": "2021-06-21T12:33:06.316052Z",
     "shell.execute_reply": "2021-06-21T12:33:06.314903Z",
     "shell.execute_reply.started": "2021-06-21T12:33:06.308279Z"
    }
   },
   "outputs": [
    {
     "data": {
      "text/plain": [
       "(4803, 20)"
      ]
     },
     "execution_count": 4,
     "metadata": {},
     "output_type": "execute_result"
    }
   ],
   "source": [
    "movies.shape"
   ]
  },
  {
   "cell_type": "code",
   "execution_count": 5,
   "metadata": {
    "execution": {
     "iopub.execute_input": "2021-06-21T12:33:08.787791Z",
     "iopub.status.busy": "2021-06-21T12:33:08.787389Z",
     "iopub.status.idle": "2021-06-21T12:33:08.800864Z",
     "shell.execute_reply": "2021-06-21T12:33:08.799834Z",
     "shell.execute_reply.started": "2021-06-21T12:33:08.787758Z"
    }
   },
   "outputs": [
    {
     "data": {
      "text/html": [
       "<div>\n",
       "<style scoped>\n",
       "    .dataframe tbody tr th:only-of-type {\n",
       "        vertical-align: middle;\n",
       "    }\n",
       "\n",
       "    .dataframe tbody tr th {\n",
       "        vertical-align: top;\n",
       "    }\n",
       "\n",
       "    .dataframe thead th {\n",
       "        text-align: right;\n",
       "    }\n",
       "</style>\n",
       "<table border=\"1\" class=\"dataframe\">\n",
       "  <thead>\n",
       "    <tr style=\"text-align: right;\">\n",
       "      <th></th>\n",
       "      <th>movie_id</th>\n",
       "      <th>title</th>\n",
       "      <th>cast</th>\n",
       "      <th>crew</th>\n",
       "      <th>Unnamed: 4</th>\n",
       "      <th>Unnamed: 5</th>\n",
       "      <th>Unnamed: 6</th>\n",
       "      <th>Unnamed: 7</th>\n",
       "      <th>Unnamed: 8</th>\n",
       "      <th>Unnamed: 9</th>\n",
       "      <th>...</th>\n",
       "      <th>Unnamed: 1255</th>\n",
       "      <th>Unnamed: 1256</th>\n",
       "      <th>Unnamed: 1257</th>\n",
       "      <th>Unnamed: 1258</th>\n",
       "      <th>Unnamed: 1259</th>\n",
       "      <th>Unnamed: 1260</th>\n",
       "      <th>Unnamed: 1261</th>\n",
       "      <th>Unnamed: 1262</th>\n",
       "      <th>Unnamed: 1263</th>\n",
       "      <th>Unnamed: 1264</th>\n",
       "    </tr>\n",
       "  </thead>\n",
       "  <tbody>\n",
       "    <tr>\n",
       "      <th>0</th>\n",
       "      <td>19995</td>\n",
       "      <td>Avatar</td>\n",
       "      <td>[{\"cast_id\": 242, \"character\": \"Jake Sully\", \"...</td>\n",
       "      <td>[{\"credit_id\": \"52fe48009251416c750aca23\", \"de...</td>\n",
       "      <td>NaN</td>\n",
       "      <td>NaN</td>\n",
       "      <td>NaN</td>\n",
       "      <td>NaN</td>\n",
       "      <td>NaN</td>\n",
       "      <td>NaN</td>\n",
       "      <td>...</td>\n",
       "      <td>NaN</td>\n",
       "      <td>NaN</td>\n",
       "      <td>NaN</td>\n",
       "      <td>NaN</td>\n",
       "      <td>NaN</td>\n",
       "      <td>NaN</td>\n",
       "      <td>NaN</td>\n",
       "      <td>NaN</td>\n",
       "      <td>NaN</td>\n",
       "      <td>NaN</td>\n",
       "    </tr>\n",
       "    <tr>\n",
       "      <th>1</th>\n",
       "      <td>285</td>\n",
       "      <td>Pirates of the Caribbean: At World's End</td>\n",
       "      <td>[{\"cast_id\": 4, \"character\": \"Captain Jack Spa...</td>\n",
       "      <td>[{\"credit_id\": \"52fe4232c3a36847f800b579\", \"de...</td>\n",
       "      <td>NaN</td>\n",
       "      <td>NaN</td>\n",
       "      <td>NaN</td>\n",
       "      <td>NaN</td>\n",
       "      <td>NaN</td>\n",
       "      <td>NaN</td>\n",
       "      <td>...</td>\n",
       "      <td>NaN</td>\n",
       "      <td>NaN</td>\n",
       "      <td>NaN</td>\n",
       "      <td>NaN</td>\n",
       "      <td>NaN</td>\n",
       "      <td>NaN</td>\n",
       "      <td>NaN</td>\n",
       "      <td>NaN</td>\n",
       "      <td>NaN</td>\n",
       "      <td>NaN</td>\n",
       "    </tr>\n",
       "    <tr>\n",
       "      <th>2</th>\n",
       "      <td>206647</td>\n",
       "      <td>Spectre</td>\n",
       "      <td>[{\"cast_id\": 1, \"character\": \"James Bond\", \"cr...</td>\n",
       "      <td>[{\"credit_id\": \"54805967c3a36829b5002c41\", \"de...</td>\n",
       "      <td>NaN</td>\n",
       "      <td>NaN</td>\n",
       "      <td>NaN</td>\n",
       "      <td>NaN</td>\n",
       "      <td>NaN</td>\n",
       "      <td>NaN</td>\n",
       "      <td>...</td>\n",
       "      <td>NaN</td>\n",
       "      <td>NaN</td>\n",
       "      <td>NaN</td>\n",
       "      <td>NaN</td>\n",
       "      <td>NaN</td>\n",
       "      <td>NaN</td>\n",
       "      <td>NaN</td>\n",
       "      <td>NaN</td>\n",
       "      <td>NaN</td>\n",
       "      <td>NaN</td>\n",
       "    </tr>\n",
       "    <tr>\n",
       "      <th>3</th>\n",
       "      <td>49026</td>\n",
       "      <td>The Dark Knight Rises</td>\n",
       "      <td>[{\"cast_id\": 2, \"character\": \"Bruce Wayne / Ba...</td>\n",
       "      <td>[{\"credit_id\": \"52fe4781c3a36847f81398c3\", \"de...</td>\n",
       "      <td>NaN</td>\n",
       "      <td>NaN</td>\n",
       "      <td>NaN</td>\n",
       "      <td>NaN</td>\n",
       "      <td>NaN</td>\n",
       "      <td>NaN</td>\n",
       "      <td>...</td>\n",
       "      <td>NaN</td>\n",
       "      <td>NaN</td>\n",
       "      <td>NaN</td>\n",
       "      <td>NaN</td>\n",
       "      <td>NaN</td>\n",
       "      <td>NaN</td>\n",
       "      <td>NaN</td>\n",
       "      <td>NaN</td>\n",
       "      <td>NaN</td>\n",
       "      <td>NaN</td>\n",
       "    </tr>\n",
       "    <tr>\n",
       "      <th>4</th>\n",
       "      <td>49529</td>\n",
       "      <td>John Carter</td>\n",
       "      <td>[{\"cast_id\": 5, \"character\": \"John Carter\", \"c...</td>\n",
       "      <td>[{\"credit_id\": \"52fe479ac3a36847f813eaa3\", \"de...</td>\n",
       "      <td>NaN</td>\n",
       "      <td>NaN</td>\n",
       "      <td>NaN</td>\n",
       "      <td>NaN</td>\n",
       "      <td>NaN</td>\n",
       "      <td>NaN</td>\n",
       "      <td>...</td>\n",
       "      <td>NaN</td>\n",
       "      <td>NaN</td>\n",
       "      <td>NaN</td>\n",
       "      <td>NaN</td>\n",
       "      <td>NaN</td>\n",
       "      <td>NaN</td>\n",
       "      <td>NaN</td>\n",
       "      <td>NaN</td>\n",
       "      <td>NaN</td>\n",
       "      <td>NaN</td>\n",
       "    </tr>\n",
       "  </tbody>\n",
       "</table>\n",
       "<p>5 rows × 1265 columns</p>\n",
       "</div>"
      ],
      "text/plain": [
       "  movie_id                                     title  \\\n",
       "0    19995                                    Avatar   \n",
       "1      285  Pirates of the Caribbean: At World's End   \n",
       "2   206647                                   Spectre   \n",
       "3    49026                     The Dark Knight Rises   \n",
       "4    49529                               John Carter   \n",
       "\n",
       "                                                cast  \\\n",
       "0  [{\"cast_id\": 242, \"character\": \"Jake Sully\", \"...   \n",
       "1  [{\"cast_id\": 4, \"character\": \"Captain Jack Spa...   \n",
       "2  [{\"cast_id\": 1, \"character\": \"James Bond\", \"cr...   \n",
       "3  [{\"cast_id\": 2, \"character\": \"Bruce Wayne / Ba...   \n",
       "4  [{\"cast_id\": 5, \"character\": \"John Carter\", \"c...   \n",
       "\n",
       "                                                crew Unnamed: 4 Unnamed: 5  \\\n",
       "0  [{\"credit_id\": \"52fe48009251416c750aca23\", \"de...        NaN        NaN   \n",
       "1  [{\"credit_id\": \"52fe4232c3a36847f800b579\", \"de...        NaN        NaN   \n",
       "2  [{\"credit_id\": \"54805967c3a36829b5002c41\", \"de...        NaN        NaN   \n",
       "3  [{\"credit_id\": \"52fe4781c3a36847f81398c3\", \"de...        NaN        NaN   \n",
       "4  [{\"credit_id\": \"52fe479ac3a36847f813eaa3\", \"de...        NaN        NaN   \n",
       "\n",
       "  Unnamed: 6 Unnamed: 7 Unnamed: 8 Unnamed: 9  ... Unnamed: 1255  \\\n",
       "0        NaN        NaN        NaN        NaN  ...           NaN   \n",
       "1        NaN        NaN        NaN        NaN  ...           NaN   \n",
       "2        NaN        NaN        NaN        NaN  ...           NaN   \n",
       "3        NaN        NaN        NaN        NaN  ...           NaN   \n",
       "4        NaN        NaN        NaN        NaN  ...           NaN   \n",
       "\n",
       "  Unnamed: 1256 Unnamed: 1257 Unnamed: 1258 Unnamed: 1259 Unnamed: 1260  \\\n",
       "0           NaN           NaN           NaN           NaN           NaN   \n",
       "1           NaN           NaN           NaN           NaN           NaN   \n",
       "2           NaN           NaN           NaN           NaN           NaN   \n",
       "3           NaN           NaN           NaN           NaN           NaN   \n",
       "4           NaN           NaN           NaN           NaN           NaN   \n",
       "\n",
       "  Unnamed: 1261 Unnamed: 1262 Unnamed: 1263 Unnamed: 1264  \n",
       "0           NaN           NaN           NaN           NaN  \n",
       "1           NaN           NaN           NaN           NaN  \n",
       "2           NaN           NaN           NaN           NaN  \n",
       "3           NaN           NaN           NaN           NaN  \n",
       "4           NaN           NaN           NaN           NaN  \n",
       "\n",
       "[5 rows x 1265 columns]"
      ]
     },
     "execution_count": 5,
     "metadata": {},
     "output_type": "execute_result"
    }
   ],
   "source": [
    "credits.head()"
   ]
  },
  {
   "cell_type": "code",
   "execution_count": 6,
   "metadata": {
    "execution": {
     "iopub.execute_input": "2021-06-21T12:36:38.687005Z",
     "iopub.status.busy": "2021-06-21T12:36:38.686521Z",
     "iopub.status.idle": "2021-06-21T12:36:38.713343Z",
     "shell.execute_reply": "2021-06-21T12:36:38.711939Z",
     "shell.execute_reply.started": "2021-06-21T12:36:38.686963Z"
    }
   },
   "outputs": [],
   "source": [
    "movies = movies.merge(credits,on='title')"
   ]
  },
  {
   "cell_type": "code",
   "execution_count": 7,
   "metadata": {
    "execution": {
     "iopub.execute_input": "2021-06-19T12:48:23.470754Z",
     "iopub.status.busy": "2021-06-19T12:48:23.470187Z",
     "iopub.status.idle": "2021-06-19T12:48:23.5041Z",
     "shell.execute_reply": "2021-06-19T12:48:23.503327Z",
     "shell.execute_reply.started": "2021-06-19T12:48:23.470724Z"
    }
   },
   "outputs": [
    {
     "data": {
      "text/html": [
       "<div>\n",
       "<style scoped>\n",
       "    .dataframe tbody tr th:only-of-type {\n",
       "        vertical-align: middle;\n",
       "    }\n",
       "\n",
       "    .dataframe tbody tr th {\n",
       "        vertical-align: top;\n",
       "    }\n",
       "\n",
       "    .dataframe thead th {\n",
       "        text-align: right;\n",
       "    }\n",
       "</style>\n",
       "<table border=\"1\" class=\"dataframe\">\n",
       "  <thead>\n",
       "    <tr style=\"text-align: right;\">\n",
       "      <th></th>\n",
       "      <th>budget</th>\n",
       "      <th>genres</th>\n",
       "      <th>homepage</th>\n",
       "      <th>id</th>\n",
       "      <th>keywords</th>\n",
       "      <th>original_language</th>\n",
       "      <th>original_title</th>\n",
       "      <th>overview</th>\n",
       "      <th>popularity</th>\n",
       "      <th>production_companies</th>\n",
       "      <th>...</th>\n",
       "      <th>Unnamed: 1255</th>\n",
       "      <th>Unnamed: 1256</th>\n",
       "      <th>Unnamed: 1257</th>\n",
       "      <th>Unnamed: 1258</th>\n",
       "      <th>Unnamed: 1259</th>\n",
       "      <th>Unnamed: 1260</th>\n",
       "      <th>Unnamed: 1261</th>\n",
       "      <th>Unnamed: 1262</th>\n",
       "      <th>Unnamed: 1263</th>\n",
       "      <th>Unnamed: 1264</th>\n",
       "    </tr>\n",
       "  </thead>\n",
       "  <tbody>\n",
       "    <tr>\n",
       "      <th>0</th>\n",
       "      <td>237000000</td>\n",
       "      <td>[{\"id\": 28, \"name\": \"Action\"}, {\"id\": 12, \"nam...</td>\n",
       "      <td>http://www.avatarmovie.com/</td>\n",
       "      <td>19995</td>\n",
       "      <td>[{\"id\": 1463, \"name\": \"culture clash\"}, {\"id\":...</td>\n",
       "      <td>en</td>\n",
       "      <td>Avatar</td>\n",
       "      <td>In the 22nd century, a paraplegic Marine is di...</td>\n",
       "      <td>150.437577</td>\n",
       "      <td>[{\"name\": \"Ingenious Film Partners\", \"id\": 289...</td>\n",
       "      <td>...</td>\n",
       "      <td>NaN</td>\n",
       "      <td>NaN</td>\n",
       "      <td>NaN</td>\n",
       "      <td>NaN</td>\n",
       "      <td>NaN</td>\n",
       "      <td>NaN</td>\n",
       "      <td>NaN</td>\n",
       "      <td>NaN</td>\n",
       "      <td>NaN</td>\n",
       "      <td>NaN</td>\n",
       "    </tr>\n",
       "    <tr>\n",
       "      <th>1</th>\n",
       "      <td>300000000</td>\n",
       "      <td>[{\"id\": 12, \"name\": \"Adventure\"}, {\"id\": 14, \"...</td>\n",
       "      <td>http://disney.go.com/disneypictures/pirates/</td>\n",
       "      <td>285</td>\n",
       "      <td>[{\"id\": 270, \"name\": \"ocean\"}, {\"id\": 726, \"na...</td>\n",
       "      <td>en</td>\n",
       "      <td>Pirates of the Caribbean: At World's End</td>\n",
       "      <td>Captain Barbossa, long believed to be dead, ha...</td>\n",
       "      <td>139.082615</td>\n",
       "      <td>[{\"name\": \"Walt Disney Pictures\", \"id\": 2}, {\"...</td>\n",
       "      <td>...</td>\n",
       "      <td>NaN</td>\n",
       "      <td>NaN</td>\n",
       "      <td>NaN</td>\n",
       "      <td>NaN</td>\n",
       "      <td>NaN</td>\n",
       "      <td>NaN</td>\n",
       "      <td>NaN</td>\n",
       "      <td>NaN</td>\n",
       "      <td>NaN</td>\n",
       "      <td>NaN</td>\n",
       "    </tr>\n",
       "    <tr>\n",
       "      <th>2</th>\n",
       "      <td>245000000</td>\n",
       "      <td>[{\"id\": 28, \"name\": \"Action\"}, {\"id\": 12, \"nam...</td>\n",
       "      <td>http://www.sonypictures.com/movies/spectre/</td>\n",
       "      <td>206647</td>\n",
       "      <td>[{\"id\": 470, \"name\": \"spy\"}, {\"id\": 818, \"name...</td>\n",
       "      <td>en</td>\n",
       "      <td>Spectre</td>\n",
       "      <td>A cryptic message from Bond’s past sends him o...</td>\n",
       "      <td>107.376788</td>\n",
       "      <td>[{\"name\": \"Columbia Pictures\", \"id\": 5}, {\"nam...</td>\n",
       "      <td>...</td>\n",
       "      <td>NaN</td>\n",
       "      <td>NaN</td>\n",
       "      <td>NaN</td>\n",
       "      <td>NaN</td>\n",
       "      <td>NaN</td>\n",
       "      <td>NaN</td>\n",
       "      <td>NaN</td>\n",
       "      <td>NaN</td>\n",
       "      <td>NaN</td>\n",
       "      <td>NaN</td>\n",
       "    </tr>\n",
       "    <tr>\n",
       "      <th>3</th>\n",
       "      <td>250000000</td>\n",
       "      <td>[{\"id\": 28, \"name\": \"Action\"}, {\"id\": 80, \"nam...</td>\n",
       "      <td>http://www.thedarkknightrises.com/</td>\n",
       "      <td>49026</td>\n",
       "      <td>[{\"id\": 849, \"name\": \"dc comics\"}, {\"id\": 853,...</td>\n",
       "      <td>en</td>\n",
       "      <td>The Dark Knight Rises</td>\n",
       "      <td>Following the death of District Attorney Harve...</td>\n",
       "      <td>112.312950</td>\n",
       "      <td>[{\"name\": \"Legendary Pictures\", \"id\": 923}, {\"...</td>\n",
       "      <td>...</td>\n",
       "      <td>NaN</td>\n",
       "      <td>NaN</td>\n",
       "      <td>NaN</td>\n",
       "      <td>NaN</td>\n",
       "      <td>NaN</td>\n",
       "      <td>NaN</td>\n",
       "      <td>NaN</td>\n",
       "      <td>NaN</td>\n",
       "      <td>NaN</td>\n",
       "      <td>NaN</td>\n",
       "    </tr>\n",
       "    <tr>\n",
       "      <th>4</th>\n",
       "      <td>260000000</td>\n",
       "      <td>[{\"id\": 28, \"name\": \"Action\"}, {\"id\": 12, \"nam...</td>\n",
       "      <td>http://movies.disney.com/john-carter</td>\n",
       "      <td>49529</td>\n",
       "      <td>[{\"id\": 818, \"name\": \"based on novel\"}, {\"id\":...</td>\n",
       "      <td>en</td>\n",
       "      <td>John Carter</td>\n",
       "      <td>John Carter is a war-weary, former military ca...</td>\n",
       "      <td>43.926995</td>\n",
       "      <td>[{\"name\": \"Walt Disney Pictures\", \"id\": 2}]</td>\n",
       "      <td>...</td>\n",
       "      <td>NaN</td>\n",
       "      <td>NaN</td>\n",
       "      <td>NaN</td>\n",
       "      <td>NaN</td>\n",
       "      <td>NaN</td>\n",
       "      <td>NaN</td>\n",
       "      <td>NaN</td>\n",
       "      <td>NaN</td>\n",
       "      <td>NaN</td>\n",
       "      <td>NaN</td>\n",
       "    </tr>\n",
       "  </tbody>\n",
       "</table>\n",
       "<p>5 rows × 1284 columns</p>\n",
       "</div>"
      ],
      "text/plain": [
       "      budget                                             genres  \\\n",
       "0  237000000  [{\"id\": 28, \"name\": \"Action\"}, {\"id\": 12, \"nam...   \n",
       "1  300000000  [{\"id\": 12, \"name\": \"Adventure\"}, {\"id\": 14, \"...   \n",
       "2  245000000  [{\"id\": 28, \"name\": \"Action\"}, {\"id\": 12, \"nam...   \n",
       "3  250000000  [{\"id\": 28, \"name\": \"Action\"}, {\"id\": 80, \"nam...   \n",
       "4  260000000  [{\"id\": 28, \"name\": \"Action\"}, {\"id\": 12, \"nam...   \n",
       "\n",
       "                                       homepage      id  \\\n",
       "0                   http://www.avatarmovie.com/   19995   \n",
       "1  http://disney.go.com/disneypictures/pirates/     285   \n",
       "2   http://www.sonypictures.com/movies/spectre/  206647   \n",
       "3            http://www.thedarkknightrises.com/   49026   \n",
       "4          http://movies.disney.com/john-carter   49529   \n",
       "\n",
       "                                            keywords original_language  \\\n",
       "0  [{\"id\": 1463, \"name\": \"culture clash\"}, {\"id\":...                en   \n",
       "1  [{\"id\": 270, \"name\": \"ocean\"}, {\"id\": 726, \"na...                en   \n",
       "2  [{\"id\": 470, \"name\": \"spy\"}, {\"id\": 818, \"name...                en   \n",
       "3  [{\"id\": 849, \"name\": \"dc comics\"}, {\"id\": 853,...                en   \n",
       "4  [{\"id\": 818, \"name\": \"based on novel\"}, {\"id\":...                en   \n",
       "\n",
       "                             original_title  \\\n",
       "0                                    Avatar   \n",
       "1  Pirates of the Caribbean: At World's End   \n",
       "2                                   Spectre   \n",
       "3                     The Dark Knight Rises   \n",
       "4                               John Carter   \n",
       "\n",
       "                                            overview  popularity  \\\n",
       "0  In the 22nd century, a paraplegic Marine is di...  150.437577   \n",
       "1  Captain Barbossa, long believed to be dead, ha...  139.082615   \n",
       "2  A cryptic message from Bond’s past sends him o...  107.376788   \n",
       "3  Following the death of District Attorney Harve...  112.312950   \n",
       "4  John Carter is a war-weary, former military ca...   43.926995   \n",
       "\n",
       "                                production_companies  ... Unnamed: 1255  \\\n",
       "0  [{\"name\": \"Ingenious Film Partners\", \"id\": 289...  ...           NaN   \n",
       "1  [{\"name\": \"Walt Disney Pictures\", \"id\": 2}, {\"...  ...           NaN   \n",
       "2  [{\"name\": \"Columbia Pictures\", \"id\": 5}, {\"nam...  ...           NaN   \n",
       "3  [{\"name\": \"Legendary Pictures\", \"id\": 923}, {\"...  ...           NaN   \n",
       "4        [{\"name\": \"Walt Disney Pictures\", \"id\": 2}]  ...           NaN   \n",
       "\n",
       "  Unnamed: 1256  Unnamed: 1257  Unnamed: 1258 Unnamed: 1259 Unnamed: 1260  \\\n",
       "0           NaN            NaN            NaN           NaN           NaN   \n",
       "1           NaN            NaN            NaN           NaN           NaN   \n",
       "2           NaN            NaN            NaN           NaN           NaN   \n",
       "3           NaN            NaN            NaN           NaN           NaN   \n",
       "4           NaN            NaN            NaN           NaN           NaN   \n",
       "\n",
       "  Unnamed: 1261 Unnamed: 1262  Unnamed: 1263  Unnamed: 1264  \n",
       "0           NaN           NaN            NaN            NaN  \n",
       "1           NaN           NaN            NaN            NaN  \n",
       "2           NaN           NaN            NaN            NaN  \n",
       "3           NaN           NaN            NaN            NaN  \n",
       "4           NaN           NaN            NaN            NaN  \n",
       "\n",
       "[5 rows x 1284 columns]"
      ]
     },
     "execution_count": 7,
     "metadata": {},
     "output_type": "execute_result"
    }
   ],
   "source": [
    "movies.head()\n",
    "# budget\n",
    "# homepage\n",
    "# id\n",
    "# original_language\n",
    "# original_title\n",
    "# popularity\n",
    "# production_comapny\n",
    "# production_countries\n",
    "# release-date(not sure)"
   ]
  },
  {
   "cell_type": "code",
   "execution_count": 8,
   "metadata": {
    "execution": {
     "iopub.execute_input": "2021-06-21T12:36:41.393733Z",
     "iopub.status.busy": "2021-06-21T12:36:41.393326Z",
     "iopub.status.idle": "2021-06-21T12:36:41.406883Z",
     "shell.execute_reply": "2021-06-21T12:36:41.405822Z",
     "shell.execute_reply.started": "2021-06-21T12:36:41.393699Z"
    }
   },
   "outputs": [],
   "source": [
    "movies = movies[['movie_id','title','overview','genres','keywords','cast','crew']]"
   ]
  },
  {
   "cell_type": "code",
   "execution_count": 9,
   "metadata": {
    "execution": {
     "iopub.execute_input": "2021-06-21T12:33:39.517061Z",
     "iopub.status.busy": "2021-06-21T12:33:39.516481Z",
     "iopub.status.idle": "2021-06-21T12:33:39.532499Z",
     "shell.execute_reply": "2021-06-21T12:33:39.531584Z",
     "shell.execute_reply.started": "2021-06-21T12:33:39.517012Z"
    }
   },
   "outputs": [
    {
     "data": {
      "text/html": [
       "<div>\n",
       "<style scoped>\n",
       "    .dataframe tbody tr th:only-of-type {\n",
       "        vertical-align: middle;\n",
       "    }\n",
       "\n",
       "    .dataframe tbody tr th {\n",
       "        vertical-align: top;\n",
       "    }\n",
       "\n",
       "    .dataframe thead th {\n",
       "        text-align: right;\n",
       "    }\n",
       "</style>\n",
       "<table border=\"1\" class=\"dataframe\">\n",
       "  <thead>\n",
       "    <tr style=\"text-align: right;\">\n",
       "      <th></th>\n",
       "      <th>movie_id</th>\n",
       "      <th>title</th>\n",
       "      <th>overview</th>\n",
       "      <th>genres</th>\n",
       "      <th>keywords</th>\n",
       "      <th>cast</th>\n",
       "      <th>crew</th>\n",
       "    </tr>\n",
       "  </thead>\n",
       "  <tbody>\n",
       "    <tr>\n",
       "      <th>0</th>\n",
       "      <td>19995</td>\n",
       "      <td>Avatar</td>\n",
       "      <td>In the 22nd century, a paraplegic Marine is di...</td>\n",
       "      <td>[{\"id\": 28, \"name\": \"Action\"}, {\"id\": 12, \"nam...</td>\n",
       "      <td>[{\"id\": 1463, \"name\": \"culture clash\"}, {\"id\":...</td>\n",
       "      <td>[{\"cast_id\": 242, \"character\": \"Jake Sully\", \"...</td>\n",
       "      <td>[{\"credit_id\": \"52fe48009251416c750aca23\", \"de...</td>\n",
       "    </tr>\n",
       "    <tr>\n",
       "      <th>1</th>\n",
       "      <td>285</td>\n",
       "      <td>Pirates of the Caribbean: At World's End</td>\n",
       "      <td>Captain Barbossa, long believed to be dead, ha...</td>\n",
       "      <td>[{\"id\": 12, \"name\": \"Adventure\"}, {\"id\": 14, \"...</td>\n",
       "      <td>[{\"id\": 270, \"name\": \"ocean\"}, {\"id\": 726, \"na...</td>\n",
       "      <td>[{\"cast_id\": 4, \"character\": \"Captain Jack Spa...</td>\n",
       "      <td>[{\"credit_id\": \"52fe4232c3a36847f800b579\", \"de...</td>\n",
       "    </tr>\n",
       "    <tr>\n",
       "      <th>2</th>\n",
       "      <td>206647</td>\n",
       "      <td>Spectre</td>\n",
       "      <td>A cryptic message from Bond’s past sends him o...</td>\n",
       "      <td>[{\"id\": 28, \"name\": \"Action\"}, {\"id\": 12, \"nam...</td>\n",
       "      <td>[{\"id\": 470, \"name\": \"spy\"}, {\"id\": 818, \"name...</td>\n",
       "      <td>[{\"cast_id\": 1, \"character\": \"James Bond\", \"cr...</td>\n",
       "      <td>[{\"credit_id\": \"54805967c3a36829b5002c41\", \"de...</td>\n",
       "    </tr>\n",
       "    <tr>\n",
       "      <th>3</th>\n",
       "      <td>49026</td>\n",
       "      <td>The Dark Knight Rises</td>\n",
       "      <td>Following the death of District Attorney Harve...</td>\n",
       "      <td>[{\"id\": 28, \"name\": \"Action\"}, {\"id\": 80, \"nam...</td>\n",
       "      <td>[{\"id\": 849, \"name\": \"dc comics\"}, {\"id\": 853,...</td>\n",
       "      <td>[{\"cast_id\": 2, \"character\": \"Bruce Wayne / Ba...</td>\n",
       "      <td>[{\"credit_id\": \"52fe4781c3a36847f81398c3\", \"de...</td>\n",
       "    </tr>\n",
       "    <tr>\n",
       "      <th>4</th>\n",
       "      <td>49529</td>\n",
       "      <td>John Carter</td>\n",
       "      <td>John Carter is a war-weary, former military ca...</td>\n",
       "      <td>[{\"id\": 28, \"name\": \"Action\"}, {\"id\": 12, \"nam...</td>\n",
       "      <td>[{\"id\": 818, \"name\": \"based on novel\"}, {\"id\":...</td>\n",
       "      <td>[{\"cast_id\": 5, \"character\": \"John Carter\", \"c...</td>\n",
       "      <td>[{\"credit_id\": \"52fe479ac3a36847f813eaa3\", \"de...</td>\n",
       "    </tr>\n",
       "  </tbody>\n",
       "</table>\n",
       "</div>"
      ],
      "text/plain": [
       "  movie_id                                     title  \\\n",
       "0    19995                                    Avatar   \n",
       "1      285  Pirates of the Caribbean: At World's End   \n",
       "2   206647                                   Spectre   \n",
       "3    49026                     The Dark Knight Rises   \n",
       "4    49529                               John Carter   \n",
       "\n",
       "                                            overview  \\\n",
       "0  In the 22nd century, a paraplegic Marine is di...   \n",
       "1  Captain Barbossa, long believed to be dead, ha...   \n",
       "2  A cryptic message from Bond’s past sends him o...   \n",
       "3  Following the death of District Attorney Harve...   \n",
       "4  John Carter is a war-weary, former military ca...   \n",
       "\n",
       "                                              genres  \\\n",
       "0  [{\"id\": 28, \"name\": \"Action\"}, {\"id\": 12, \"nam...   \n",
       "1  [{\"id\": 12, \"name\": \"Adventure\"}, {\"id\": 14, \"...   \n",
       "2  [{\"id\": 28, \"name\": \"Action\"}, {\"id\": 12, \"nam...   \n",
       "3  [{\"id\": 28, \"name\": \"Action\"}, {\"id\": 80, \"nam...   \n",
       "4  [{\"id\": 28, \"name\": \"Action\"}, {\"id\": 12, \"nam...   \n",
       "\n",
       "                                            keywords  \\\n",
       "0  [{\"id\": 1463, \"name\": \"culture clash\"}, {\"id\":...   \n",
       "1  [{\"id\": 270, \"name\": \"ocean\"}, {\"id\": 726, \"na...   \n",
       "2  [{\"id\": 470, \"name\": \"spy\"}, {\"id\": 818, \"name...   \n",
       "3  [{\"id\": 849, \"name\": \"dc comics\"}, {\"id\": 853,...   \n",
       "4  [{\"id\": 818, \"name\": \"based on novel\"}, {\"id\":...   \n",
       "\n",
       "                                                cast  \\\n",
       "0  [{\"cast_id\": 242, \"character\": \"Jake Sully\", \"...   \n",
       "1  [{\"cast_id\": 4, \"character\": \"Captain Jack Spa...   \n",
       "2  [{\"cast_id\": 1, \"character\": \"James Bond\", \"cr...   \n",
       "3  [{\"cast_id\": 2, \"character\": \"Bruce Wayne / Ba...   \n",
       "4  [{\"cast_id\": 5, \"character\": \"John Carter\", \"c...   \n",
       "\n",
       "                                                crew  \n",
       "0  [{\"credit_id\": \"52fe48009251416c750aca23\", \"de...  \n",
       "1  [{\"credit_id\": \"52fe4232c3a36847f800b579\", \"de...  \n",
       "2  [{\"credit_id\": \"54805967c3a36829b5002c41\", \"de...  \n",
       "3  [{\"credit_id\": \"52fe4781c3a36847f81398c3\", \"de...  \n",
       "4  [{\"credit_id\": \"52fe479ac3a36847f813eaa3\", \"de...  "
      ]
     },
     "execution_count": 9,
     "metadata": {},
     "output_type": "execute_result"
    }
   ],
   "source": [
    "movies.head()"
   ]
  },
  {
   "cell_type": "code",
   "execution_count": 10,
   "metadata": {
    "execution": {
     "iopub.execute_input": "2021-06-21T12:34:19.382856Z",
     "iopub.status.busy": "2021-06-21T12:34:19.382331Z",
     "iopub.status.idle": "2021-06-21T12:34:19.387416Z",
     "shell.execute_reply": "2021-06-21T12:34:19.386451Z",
     "shell.execute_reply.started": "2021-06-21T12:34:19.382822Z"
    }
   },
   "outputs": [],
   "source": [
    "import ast"
   ]
  },
  {
   "cell_type": "code",
   "execution_count": 11,
   "metadata": {
    "execution": {
     "iopub.execute_input": "2021-06-21T12:36:47.540453Z",
     "iopub.status.busy": "2021-06-21T12:36:47.539904Z",
     "iopub.status.idle": "2021-06-21T12:36:47.545014Z",
     "shell.execute_reply": "2021-06-21T12:36:47.544243Z",
     "shell.execute_reply.started": "2021-06-21T12:36:47.540418Z"
    }
   },
   "outputs": [],
   "source": [
    "def convert(text):\n",
    "    L = []\n",
    "    for i in ast.literal_eval(text):\n",
    "        L.append(i['name']) \n",
    "    return L "
   ]
  },
  {
   "cell_type": "code",
   "execution_count": 12,
   "metadata": {
    "execution": {
     "iopub.execute_input": "2021-06-21T12:36:50.059538Z",
     "iopub.status.busy": "2021-06-21T12:36:50.059006Z",
     "iopub.status.idle": "2021-06-21T12:36:50.073095Z",
     "shell.execute_reply": "2021-06-21T12:36:50.071577Z",
     "shell.execute_reply.started": "2021-06-21T12:36:50.059504Z"
    }
   },
   "outputs": [],
   "source": [
    "movies.dropna(inplace=True)"
   ]
  },
  {
   "cell_type": "code",
   "execution_count": 13,
   "metadata": {
    "execution": {
     "iopub.execute_input": "2021-06-21T12:36:52.344121Z",
     "iopub.status.busy": "2021-06-21T12:36:52.343645Z",
     "iopub.status.idle": "2021-06-21T12:36:52.523910Z",
     "shell.execute_reply": "2021-06-21T12:36:52.522805Z",
     "shell.execute_reply.started": "2021-06-21T12:36:52.344082Z"
    }
   },
   "outputs": [
    {
     "data": {
      "text/html": [
       "<div>\n",
       "<style scoped>\n",
       "    .dataframe tbody tr th:only-of-type {\n",
       "        vertical-align: middle;\n",
       "    }\n",
       "\n",
       "    .dataframe tbody tr th {\n",
       "        vertical-align: top;\n",
       "    }\n",
       "\n",
       "    .dataframe thead th {\n",
       "        text-align: right;\n",
       "    }\n",
       "</style>\n",
       "<table border=\"1\" class=\"dataframe\">\n",
       "  <thead>\n",
       "    <tr style=\"text-align: right;\">\n",
       "      <th></th>\n",
       "      <th>movie_id</th>\n",
       "      <th>title</th>\n",
       "      <th>overview</th>\n",
       "      <th>genres</th>\n",
       "      <th>keywords</th>\n",
       "      <th>cast</th>\n",
       "      <th>crew</th>\n",
       "    </tr>\n",
       "  </thead>\n",
       "  <tbody>\n",
       "    <tr>\n",
       "      <th>0</th>\n",
       "      <td>19995</td>\n",
       "      <td>Avatar</td>\n",
       "      <td>In the 22nd century, a paraplegic Marine is di...</td>\n",
       "      <td>[Action, Adventure, Fantasy, Science Fiction]</td>\n",
       "      <td>[{\"id\": 1463, \"name\": \"culture clash\"}, {\"id\":...</td>\n",
       "      <td>[{\"cast_id\": 242, \"character\": \"Jake Sully\", \"...</td>\n",
       "      <td>[{\"credit_id\": \"52fe48009251416c750aca23\", \"de...</td>\n",
       "    </tr>\n",
       "    <tr>\n",
       "      <th>1</th>\n",
       "      <td>285</td>\n",
       "      <td>Pirates of the Caribbean: At World's End</td>\n",
       "      <td>Captain Barbossa, long believed to be dead, ha...</td>\n",
       "      <td>[Adventure, Fantasy, Action]</td>\n",
       "      <td>[{\"id\": 270, \"name\": \"ocean\"}, {\"id\": 726, \"na...</td>\n",
       "      <td>[{\"cast_id\": 4, \"character\": \"Captain Jack Spa...</td>\n",
       "      <td>[{\"credit_id\": \"52fe4232c3a36847f800b579\", \"de...</td>\n",
       "    </tr>\n",
       "    <tr>\n",
       "      <th>2</th>\n",
       "      <td>206647</td>\n",
       "      <td>Spectre</td>\n",
       "      <td>A cryptic message from Bond’s past sends him o...</td>\n",
       "      <td>[Action, Adventure, Crime]</td>\n",
       "      <td>[{\"id\": 470, \"name\": \"spy\"}, {\"id\": 818, \"name...</td>\n",
       "      <td>[{\"cast_id\": 1, \"character\": \"James Bond\", \"cr...</td>\n",
       "      <td>[{\"credit_id\": \"54805967c3a36829b5002c41\", \"de...</td>\n",
       "    </tr>\n",
       "    <tr>\n",
       "      <th>3</th>\n",
       "      <td>49026</td>\n",
       "      <td>The Dark Knight Rises</td>\n",
       "      <td>Following the death of District Attorney Harve...</td>\n",
       "      <td>[Action, Crime, Drama, Thriller]</td>\n",
       "      <td>[{\"id\": 849, \"name\": \"dc comics\"}, {\"id\": 853,...</td>\n",
       "      <td>[{\"cast_id\": 2, \"character\": \"Bruce Wayne / Ba...</td>\n",
       "      <td>[{\"credit_id\": \"52fe4781c3a36847f81398c3\", \"de...</td>\n",
       "    </tr>\n",
       "    <tr>\n",
       "      <th>4</th>\n",
       "      <td>49529</td>\n",
       "      <td>John Carter</td>\n",
       "      <td>John Carter is a war-weary, former military ca...</td>\n",
       "      <td>[Action, Adventure, Science Fiction]</td>\n",
       "      <td>[{\"id\": 818, \"name\": \"based on novel\"}, {\"id\":...</td>\n",
       "      <td>[{\"cast_id\": 5, \"character\": \"John Carter\", \"c...</td>\n",
       "      <td>[{\"credit_id\": \"52fe479ac3a36847f813eaa3\", \"de...</td>\n",
       "    </tr>\n",
       "  </tbody>\n",
       "</table>\n",
       "</div>"
      ],
      "text/plain": [
       "  movie_id                                     title  \\\n",
       "0    19995                                    Avatar   \n",
       "1      285  Pirates of the Caribbean: At World's End   \n",
       "2   206647                                   Spectre   \n",
       "3    49026                     The Dark Knight Rises   \n",
       "4    49529                               John Carter   \n",
       "\n",
       "                                            overview  \\\n",
       "0  In the 22nd century, a paraplegic Marine is di...   \n",
       "1  Captain Barbossa, long believed to be dead, ha...   \n",
       "2  A cryptic message from Bond’s past sends him o...   \n",
       "3  Following the death of District Attorney Harve...   \n",
       "4  John Carter is a war-weary, former military ca...   \n",
       "\n",
       "                                          genres  \\\n",
       "0  [Action, Adventure, Fantasy, Science Fiction]   \n",
       "1                   [Adventure, Fantasy, Action]   \n",
       "2                     [Action, Adventure, Crime]   \n",
       "3               [Action, Crime, Drama, Thriller]   \n",
       "4           [Action, Adventure, Science Fiction]   \n",
       "\n",
       "                                            keywords  \\\n",
       "0  [{\"id\": 1463, \"name\": \"culture clash\"}, {\"id\":...   \n",
       "1  [{\"id\": 270, \"name\": \"ocean\"}, {\"id\": 726, \"na...   \n",
       "2  [{\"id\": 470, \"name\": \"spy\"}, {\"id\": 818, \"name...   \n",
       "3  [{\"id\": 849, \"name\": \"dc comics\"}, {\"id\": 853,...   \n",
       "4  [{\"id\": 818, \"name\": \"based on novel\"}, {\"id\":...   \n",
       "\n",
       "                                                cast  \\\n",
       "0  [{\"cast_id\": 242, \"character\": \"Jake Sully\", \"...   \n",
       "1  [{\"cast_id\": 4, \"character\": \"Captain Jack Spa...   \n",
       "2  [{\"cast_id\": 1, \"character\": \"James Bond\", \"cr...   \n",
       "3  [{\"cast_id\": 2, \"character\": \"Bruce Wayne / Ba...   \n",
       "4  [{\"cast_id\": 5, \"character\": \"John Carter\", \"c...   \n",
       "\n",
       "                                                crew  \n",
       "0  [{\"credit_id\": \"52fe48009251416c750aca23\", \"de...  \n",
       "1  [{\"credit_id\": \"52fe4232c3a36847f800b579\", \"de...  \n",
       "2  [{\"credit_id\": \"54805967c3a36829b5002c41\", \"de...  \n",
       "3  [{\"credit_id\": \"52fe4781c3a36847f81398c3\", \"de...  \n",
       "4  [{\"credit_id\": \"52fe479ac3a36847f813eaa3\", \"de...  "
      ]
     },
     "execution_count": 13,
     "metadata": {},
     "output_type": "execute_result"
    }
   ],
   "source": [
    "movies['genres'] = movies['genres'].apply(convert)\n",
    "movies.head()"
   ]
  },
  {
   "cell_type": "code",
   "execution_count": 14,
   "metadata": {
    "execution": {
     "iopub.execute_input": "2021-06-21T12:36:55.304439Z",
     "iopub.status.busy": "2021-06-21T12:36:55.304070Z",
     "iopub.status.idle": "2021-06-21T12:36:55.738525Z",
     "shell.execute_reply": "2021-06-21T12:36:55.737123Z",
     "shell.execute_reply.started": "2021-06-21T12:36:55.304408Z"
    }
   },
   "outputs": [
    {
     "data": {
      "text/html": [
       "<div>\n",
       "<style scoped>\n",
       "    .dataframe tbody tr th:only-of-type {\n",
       "        vertical-align: middle;\n",
       "    }\n",
       "\n",
       "    .dataframe tbody tr th {\n",
       "        vertical-align: top;\n",
       "    }\n",
       "\n",
       "    .dataframe thead th {\n",
       "        text-align: right;\n",
       "    }\n",
       "</style>\n",
       "<table border=\"1\" class=\"dataframe\">\n",
       "  <thead>\n",
       "    <tr style=\"text-align: right;\">\n",
       "      <th></th>\n",
       "      <th>movie_id</th>\n",
       "      <th>title</th>\n",
       "      <th>overview</th>\n",
       "      <th>genres</th>\n",
       "      <th>keywords</th>\n",
       "      <th>cast</th>\n",
       "      <th>crew</th>\n",
       "    </tr>\n",
       "  </thead>\n",
       "  <tbody>\n",
       "    <tr>\n",
       "      <th>0</th>\n",
       "      <td>19995</td>\n",
       "      <td>Avatar</td>\n",
       "      <td>In the 22nd century, a paraplegic Marine is di...</td>\n",
       "      <td>[Action, Adventure, Fantasy, Science Fiction]</td>\n",
       "      <td>[culture clash, future, space war, space colon...</td>\n",
       "      <td>[{\"cast_id\": 242, \"character\": \"Jake Sully\", \"...</td>\n",
       "      <td>[{\"credit_id\": \"52fe48009251416c750aca23\", \"de...</td>\n",
       "    </tr>\n",
       "    <tr>\n",
       "      <th>1</th>\n",
       "      <td>285</td>\n",
       "      <td>Pirates of the Caribbean: At World's End</td>\n",
       "      <td>Captain Barbossa, long believed to be dead, ha...</td>\n",
       "      <td>[Adventure, Fantasy, Action]</td>\n",
       "      <td>[ocean, drug abuse, exotic island, east india ...</td>\n",
       "      <td>[{\"cast_id\": 4, \"character\": \"Captain Jack Spa...</td>\n",
       "      <td>[{\"credit_id\": \"52fe4232c3a36847f800b579\", \"de...</td>\n",
       "    </tr>\n",
       "    <tr>\n",
       "      <th>2</th>\n",
       "      <td>206647</td>\n",
       "      <td>Spectre</td>\n",
       "      <td>A cryptic message from Bond’s past sends him o...</td>\n",
       "      <td>[Action, Adventure, Crime]</td>\n",
       "      <td>[spy, based on novel, secret agent, sequel, mi...</td>\n",
       "      <td>[{\"cast_id\": 1, \"character\": \"James Bond\", \"cr...</td>\n",
       "      <td>[{\"credit_id\": \"54805967c3a36829b5002c41\", \"de...</td>\n",
       "    </tr>\n",
       "    <tr>\n",
       "      <th>3</th>\n",
       "      <td>49026</td>\n",
       "      <td>The Dark Knight Rises</td>\n",
       "      <td>Following the death of District Attorney Harve...</td>\n",
       "      <td>[Action, Crime, Drama, Thriller]</td>\n",
       "      <td>[dc comics, crime fighter, terrorist, secret i...</td>\n",
       "      <td>[{\"cast_id\": 2, \"character\": \"Bruce Wayne / Ba...</td>\n",
       "      <td>[{\"credit_id\": \"52fe4781c3a36847f81398c3\", \"de...</td>\n",
       "    </tr>\n",
       "    <tr>\n",
       "      <th>4</th>\n",
       "      <td>49529</td>\n",
       "      <td>John Carter</td>\n",
       "      <td>John Carter is a war-weary, former military ca...</td>\n",
       "      <td>[Action, Adventure, Science Fiction]</td>\n",
       "      <td>[based on novel, mars, medallion, space travel...</td>\n",
       "      <td>[{\"cast_id\": 5, \"character\": \"John Carter\", \"c...</td>\n",
       "      <td>[{\"credit_id\": \"52fe479ac3a36847f813eaa3\", \"de...</td>\n",
       "    </tr>\n",
       "  </tbody>\n",
       "</table>\n",
       "</div>"
      ],
      "text/plain": [
       "  movie_id                                     title  \\\n",
       "0    19995                                    Avatar   \n",
       "1      285  Pirates of the Caribbean: At World's End   \n",
       "2   206647                                   Spectre   \n",
       "3    49026                     The Dark Knight Rises   \n",
       "4    49529                               John Carter   \n",
       "\n",
       "                                            overview  \\\n",
       "0  In the 22nd century, a paraplegic Marine is di...   \n",
       "1  Captain Barbossa, long believed to be dead, ha...   \n",
       "2  A cryptic message from Bond’s past sends him o...   \n",
       "3  Following the death of District Attorney Harve...   \n",
       "4  John Carter is a war-weary, former military ca...   \n",
       "\n",
       "                                          genres  \\\n",
       "0  [Action, Adventure, Fantasy, Science Fiction]   \n",
       "1                   [Adventure, Fantasy, Action]   \n",
       "2                     [Action, Adventure, Crime]   \n",
       "3               [Action, Crime, Drama, Thriller]   \n",
       "4           [Action, Adventure, Science Fiction]   \n",
       "\n",
       "                                            keywords  \\\n",
       "0  [culture clash, future, space war, space colon...   \n",
       "1  [ocean, drug abuse, exotic island, east india ...   \n",
       "2  [spy, based on novel, secret agent, sequel, mi...   \n",
       "3  [dc comics, crime fighter, terrorist, secret i...   \n",
       "4  [based on novel, mars, medallion, space travel...   \n",
       "\n",
       "                                                cast  \\\n",
       "0  [{\"cast_id\": 242, \"character\": \"Jake Sully\", \"...   \n",
       "1  [{\"cast_id\": 4, \"character\": \"Captain Jack Spa...   \n",
       "2  [{\"cast_id\": 1, \"character\": \"James Bond\", \"cr...   \n",
       "3  [{\"cast_id\": 2, \"character\": \"Bruce Wayne / Ba...   \n",
       "4  [{\"cast_id\": 5, \"character\": \"John Carter\", \"c...   \n",
       "\n",
       "                                                crew  \n",
       "0  [{\"credit_id\": \"52fe48009251416c750aca23\", \"de...  \n",
       "1  [{\"credit_id\": \"52fe4232c3a36847f800b579\", \"de...  \n",
       "2  [{\"credit_id\": \"54805967c3a36829b5002c41\", \"de...  \n",
       "3  [{\"credit_id\": \"52fe4781c3a36847f81398c3\", \"de...  \n",
       "4  [{\"credit_id\": \"52fe479ac3a36847f813eaa3\", \"de...  "
      ]
     },
     "execution_count": 14,
     "metadata": {},
     "output_type": "execute_result"
    }
   ],
   "source": [
    "movies['keywords'] = movies['keywords'].apply(convert)\n",
    "movies.head()"
   ]
  },
  {
   "cell_type": "code",
   "execution_count": 15,
   "metadata": {
    "execution": {
     "iopub.execute_input": "2021-06-19T13:07:21.572473Z",
     "iopub.status.busy": "2021-06-19T13:07:21.572154Z",
     "iopub.status.idle": "2021-06-19T13:07:21.578686Z",
     "shell.execute_reply": "2021-06-19T13:07:21.577661Z",
     "shell.execute_reply.started": "2021-06-19T13:07:21.572446Z"
    }
   },
   "outputs": [
    {
     "data": {
      "text/plain": [
       "[{'id': 28, 'name': 'Action'},\n",
       " {'id': 12, 'name': 'Adventure'},\n",
       " {'id': 14, 'name': 'Fantasy'},\n",
       " {'id': 878, 'name': 'Science Fiction'}]"
      ]
     },
     "execution_count": 15,
     "metadata": {},
     "output_type": "execute_result"
    }
   ],
   "source": [
    "import ast\n",
    "ast.literal_eval('[{\"id\": 28, \"name\": \"Action\"}, {\"id\": 12, \"name\": \"Adventure\"}, {\"id\": 14, \"name\": \"Fantasy\"}, {\"id\": 878, \"name\": \"Science Fiction\"}]')"
   ]
  },
  {
   "cell_type": "code",
   "execution_count": 16,
   "metadata": {
    "execution": {
     "iopub.execute_input": "2021-06-21T12:36:59.511226Z",
     "iopub.status.busy": "2021-06-21T12:36:59.510859Z",
     "iopub.status.idle": "2021-06-21T12:36:59.517043Z",
     "shell.execute_reply": "2021-06-21T12:36:59.515878Z",
     "shell.execute_reply.started": "2021-06-21T12:36:59.511192Z"
    }
   },
   "outputs": [],
   "source": [
    "def convert3(text):\n",
    "    L = []\n",
    "    counter = 0\n",
    "    for i in ast.literal_eval(text):\n",
    "        if counter < 3:\n",
    "            L.append(i['name'])\n",
    "        counter+=1\n",
    "    return L "
   ]
  },
  {
   "cell_type": "code",
   "execution_count": 17,
   "metadata": {
    "execution": {
     "iopub.execute_input": "2021-06-21T12:37:00.829409Z",
     "iopub.status.busy": "2021-06-21T12:37:00.828661Z",
     "iopub.status.idle": "2021-06-21T12:37:04.117090Z",
     "shell.execute_reply": "2021-06-21T12:37:04.115822Z",
     "shell.execute_reply.started": "2021-06-21T12:37:00.829355Z"
    }
   },
   "outputs": [
    {
     "data": {
      "text/html": [
       "<div>\n",
       "<style scoped>\n",
       "    .dataframe tbody tr th:only-of-type {\n",
       "        vertical-align: middle;\n",
       "    }\n",
       "\n",
       "    .dataframe tbody tr th {\n",
       "        vertical-align: top;\n",
       "    }\n",
       "\n",
       "    .dataframe thead th {\n",
       "        text-align: right;\n",
       "    }\n",
       "</style>\n",
       "<table border=\"1\" class=\"dataframe\">\n",
       "  <thead>\n",
       "    <tr style=\"text-align: right;\">\n",
       "      <th></th>\n",
       "      <th>movie_id</th>\n",
       "      <th>title</th>\n",
       "      <th>overview</th>\n",
       "      <th>genres</th>\n",
       "      <th>keywords</th>\n",
       "      <th>cast</th>\n",
       "      <th>crew</th>\n",
       "    </tr>\n",
       "  </thead>\n",
       "  <tbody>\n",
       "    <tr>\n",
       "      <th>0</th>\n",
       "      <td>19995</td>\n",
       "      <td>Avatar</td>\n",
       "      <td>In the 22nd century, a paraplegic Marine is di...</td>\n",
       "      <td>[Action, Adventure, Fantasy, Science Fiction]</td>\n",
       "      <td>[culture clash, future, space war, space colon...</td>\n",
       "      <td>[Sam Worthington, Zoe Saldana, Sigourney Weave...</td>\n",
       "      <td>[{\"credit_id\": \"52fe48009251416c750aca23\", \"de...</td>\n",
       "    </tr>\n",
       "    <tr>\n",
       "      <th>1</th>\n",
       "      <td>285</td>\n",
       "      <td>Pirates of the Caribbean: At World's End</td>\n",
       "      <td>Captain Barbossa, long believed to be dead, ha...</td>\n",
       "      <td>[Adventure, Fantasy, Action]</td>\n",
       "      <td>[ocean, drug abuse, exotic island, east india ...</td>\n",
       "      <td>[Johnny Depp, Orlando Bloom, Keira Knightley, ...</td>\n",
       "      <td>[{\"credit_id\": \"52fe4232c3a36847f800b579\", \"de...</td>\n",
       "    </tr>\n",
       "    <tr>\n",
       "      <th>2</th>\n",
       "      <td>206647</td>\n",
       "      <td>Spectre</td>\n",
       "      <td>A cryptic message from Bond’s past sends him o...</td>\n",
       "      <td>[Action, Adventure, Crime]</td>\n",
       "      <td>[spy, based on novel, secret agent, sequel, mi...</td>\n",
       "      <td>[Daniel Craig, Christoph Waltz, Léa Seydoux, R...</td>\n",
       "      <td>[{\"credit_id\": \"54805967c3a36829b5002c41\", \"de...</td>\n",
       "    </tr>\n",
       "    <tr>\n",
       "      <th>3</th>\n",
       "      <td>49026</td>\n",
       "      <td>The Dark Knight Rises</td>\n",
       "      <td>Following the death of District Attorney Harve...</td>\n",
       "      <td>[Action, Crime, Drama, Thriller]</td>\n",
       "      <td>[dc comics, crime fighter, terrorist, secret i...</td>\n",
       "      <td>[Christian Bale, Michael Caine, Gary Oldman, A...</td>\n",
       "      <td>[{\"credit_id\": \"52fe4781c3a36847f81398c3\", \"de...</td>\n",
       "    </tr>\n",
       "    <tr>\n",
       "      <th>4</th>\n",
       "      <td>49529</td>\n",
       "      <td>John Carter</td>\n",
       "      <td>John Carter is a war-weary, former military ca...</td>\n",
       "      <td>[Action, Adventure, Science Fiction]</td>\n",
       "      <td>[based on novel, mars, medallion, space travel...</td>\n",
       "      <td>[Taylor Kitsch, Lynn Collins, Samantha Morton,...</td>\n",
       "      <td>[{\"credit_id\": \"52fe479ac3a36847f813eaa3\", \"de...</td>\n",
       "    </tr>\n",
       "  </tbody>\n",
       "</table>\n",
       "</div>"
      ],
      "text/plain": [
       "  movie_id                                     title  \\\n",
       "0    19995                                    Avatar   \n",
       "1      285  Pirates of the Caribbean: At World's End   \n",
       "2   206647                                   Spectre   \n",
       "3    49026                     The Dark Knight Rises   \n",
       "4    49529                               John Carter   \n",
       "\n",
       "                                            overview  \\\n",
       "0  In the 22nd century, a paraplegic Marine is di...   \n",
       "1  Captain Barbossa, long believed to be dead, ha...   \n",
       "2  A cryptic message from Bond’s past sends him o...   \n",
       "3  Following the death of District Attorney Harve...   \n",
       "4  John Carter is a war-weary, former military ca...   \n",
       "\n",
       "                                          genres  \\\n",
       "0  [Action, Adventure, Fantasy, Science Fiction]   \n",
       "1                   [Adventure, Fantasy, Action]   \n",
       "2                     [Action, Adventure, Crime]   \n",
       "3               [Action, Crime, Drama, Thriller]   \n",
       "4           [Action, Adventure, Science Fiction]   \n",
       "\n",
       "                                            keywords  \\\n",
       "0  [culture clash, future, space war, space colon...   \n",
       "1  [ocean, drug abuse, exotic island, east india ...   \n",
       "2  [spy, based on novel, secret agent, sequel, mi...   \n",
       "3  [dc comics, crime fighter, terrorist, secret i...   \n",
       "4  [based on novel, mars, medallion, space travel...   \n",
       "\n",
       "                                                cast  \\\n",
       "0  [Sam Worthington, Zoe Saldana, Sigourney Weave...   \n",
       "1  [Johnny Depp, Orlando Bloom, Keira Knightley, ...   \n",
       "2  [Daniel Craig, Christoph Waltz, Léa Seydoux, R...   \n",
       "3  [Christian Bale, Michael Caine, Gary Oldman, A...   \n",
       "4  [Taylor Kitsch, Lynn Collins, Samantha Morton,...   \n",
       "\n",
       "                                                crew  \n",
       "0  [{\"credit_id\": \"52fe48009251416c750aca23\", \"de...  \n",
       "1  [{\"credit_id\": \"52fe4232c3a36847f800b579\", \"de...  \n",
       "2  [{\"credit_id\": \"54805967c3a36829b5002c41\", \"de...  \n",
       "3  [{\"credit_id\": \"52fe4781c3a36847f81398c3\", \"de...  \n",
       "4  [{\"credit_id\": \"52fe479ac3a36847f813eaa3\", \"de...  "
      ]
     },
     "execution_count": 17,
     "metadata": {},
     "output_type": "execute_result"
    }
   ],
   "source": [
    "movies['cast'] = movies['cast'].apply(convert)\n",
    "movies.head()"
   ]
  },
  {
   "cell_type": "code",
   "execution_count": 18,
   "metadata": {
    "execution": {
     "iopub.execute_input": "2021-06-21T12:37:07.352886Z",
     "iopub.status.busy": "2021-06-21T12:37:07.352464Z",
     "iopub.status.idle": "2021-06-21T12:37:07.367808Z",
     "shell.execute_reply": "2021-06-21T12:37:07.366250Z",
     "shell.execute_reply.started": "2021-06-21T12:37:07.352854Z"
    }
   },
   "outputs": [],
   "source": [
    "movies['cast'] = movies['cast'].apply(lambda x:x[0:3])"
   ]
  },
  {
   "cell_type": "code",
   "execution_count": 19,
   "metadata": {
    "execution": {
     "iopub.execute_input": "2021-06-21T12:37:09.763317Z",
     "iopub.status.busy": "2021-06-21T12:37:09.762909Z",
     "iopub.status.idle": "2021-06-21T12:37:09.770917Z",
     "shell.execute_reply": "2021-06-21T12:37:09.770002Z",
     "shell.execute_reply.started": "2021-06-21T12:37:09.763278Z"
    }
   },
   "outputs": [],
   "source": [
    "def fetch_director(text):\n",
    "    L = []\n",
    "    for i in ast.literal_eval(text):\n",
    "        if i['job'] == 'Director':\n",
    "            L.append(i['name'])\n",
    "    return L "
   ]
  },
  {
   "cell_type": "code",
   "execution_count": 20,
   "metadata": {
    "execution": {
     "iopub.execute_input": "2021-06-21T12:37:12.190468Z",
     "iopub.status.busy": "2021-06-21T12:37:12.189921Z",
     "iopub.status.idle": "2021-06-21T12:37:15.825662Z",
     "shell.execute_reply": "2021-06-21T12:37:15.824562Z",
     "shell.execute_reply.started": "2021-06-21T12:37:12.190407Z"
    }
   },
   "outputs": [
    {
     "ename": "SyntaxError",
     "evalue": "unterminated string literal (detected at line 1) (<unknown>, line 1)",
     "output_type": "error",
     "traceback": [
      "Traceback \u001b[1;36m(most recent call last)\u001b[0m:\n",
      "\u001b[0m  File \u001b[0;32m~\\AppData\\Local\\Programs\\Python\\Python311\\Lib\\site-packages\\IPython\\core\\interactiveshell.py:3508\u001b[0m in \u001b[0;35mrun_code\u001b[0m\n    exec(code_obj, self.user_global_ns, self.user_ns)\u001b[0m\n",
      "\u001b[0m  Cell \u001b[0;32mIn[20], line 1\u001b[0m\n    movies['crew'] = movies['crew'].apply(fetch_director)\u001b[0m\n",
      "\u001b[0m  File \u001b[0;32m~\\AppData\\Local\\Programs\\Python\\Python311\\Lib\\site-packages\\pandas\\core\\series.py:4765\u001b[0m in \u001b[0;35mapply\u001b[0m\n    ).apply()\u001b[0m\n",
      "\u001b[0m  File \u001b[0;32m~\\AppData\\Local\\Programs\\Python\\Python311\\Lib\\site-packages\\pandas\\core\\apply.py:1201\u001b[0m in \u001b[0;35mapply\u001b[0m\n    return self.apply_standard()\u001b[0m\n",
      "\u001b[0m  File \u001b[0;32m~\\AppData\\Local\\Programs\\Python\\Python311\\Lib\\site-packages\\pandas\\core\\apply.py:1281\u001b[0m in \u001b[0;35mapply_standard\u001b[0m\n    mapped = obj._map_values(\u001b[0m\n",
      "\u001b[0m  File \u001b[0;32m~\\AppData\\Local\\Programs\\Python\\Python311\\Lib\\site-packages\\pandas\\core\\base.py:921\u001b[0m in \u001b[0;35m_map_values\u001b[0m\n    return algorithms.map_array(arr, mapper, na_action=na_action, convert=convert)\u001b[0m\n",
      "\u001b[0m  File \u001b[0;32m~\\AppData\\Local\\Programs\\Python\\Python311\\Lib\\site-packages\\pandas\\core\\algorithms.py:1812\u001b[0m in \u001b[0;35mmap_array\u001b[0m\n    return lib.map_infer(values, mapper, convert=convert)\u001b[0m\n",
      "\u001b[0m  File \u001b[0;32mlib.pyx:2917\u001b[0m in \u001b[0;35mpandas._libs.lib.map_infer\u001b[0m\n",
      "\u001b[0m  Cell \u001b[0;32mIn[19], line 3\u001b[0m in \u001b[0;35mfetch_director\u001b[0m\n    for i in ast.literal_eval(text):\u001b[0m\n",
      "\u001b[0m  File \u001b[0;32m~\\AppData\\Local\\Programs\\Python\\Python311\\Lib\\ast.py:64\u001b[0m in \u001b[0;35mliteral_eval\u001b[0m\n    node_or_string = parse(node_or_string.lstrip(\" \\t\"), mode='eval')\u001b[0m\n",
      "\u001b[1;36m  File \u001b[1;32m~\\AppData\\Local\\Programs\\Python\\Python311\\Lib\\ast.py:50\u001b[1;36m in \u001b[1;35mparse\u001b[1;36m\n\u001b[1;33m    return compile(source, filename, mode, flags,\u001b[1;36m\n",
      "\u001b[1;36m  File \u001b[1;32m<unknown>:1\u001b[1;36m\u001b[0m\n\u001b[1;33m    [{\"credit_id\": \"52fe4bf7c3a368484e1a0683\", \"department\": \"Production\", \"gender\": 2, \"id\": 488, \"job\": \"Executive Producer\", \"name\": \"Steven Spielberg\"}, {\"credit_id\": \"554918b892514104ca000244\", \"department\": \"Production\", \"gender\": 0, \"id\": 561, \"job\": \"Casting\", \"name\": \"John Papsidera\"}, {\"credit_id\": \"52fe4bf7c3a368484e1a0689\", \"department\": \"Production\", \"gender\": 2, \"id\": 664, \"job\": \"Producer\", \"name\": \"Frank Marshall\"}, {\"credit_id\": \"554918a492514104ba0002bc\", \"department\": \"Camera\", \"gender\": 2, \"id\": 892, \"job\": \"Director of Photography\", \"name\": \"John Schwartzman\"}, {\"credit_id\": \"554924a9c3a36841b600032b\", \"department\": \"Sound\", \"gender\": 0, \"id\": 900, \"job\": \"Sound Re-Recording Mixer\", \"name\": \"Christopher Boyes\"}, {\"credit_id\": \"5549258092514104c700038b\", \"department\": \"Sound\", \"gender\": 2, \"id\": 2216, \"job\": \"Sound Designer\", \"name\": \"Gary Rydstrom\"}, {\"credit_id\": \"5549190292514104c4000279\", \"department\": \"Art\", \"gender\": 2, \"id\": 2529, \"job\": \"Set Decoration\", \"name\": \"Ronald R. Reiss\"}, {\"credit_id\": \"5549361392514104c700055b\", \"department\": \"Crew\", \"gender\": 2, \"id\": 4030, \"job\": \"Stunts\", \"name\": \"Martin Klebba\"}, {\"credit_id\": \"5549191292514104ca00024e\", \"department\": \"Costume & Make-Up\", \"gender\": 1, \"id\": 7238, \"job\": \"Costume Design\", \"name\": \"April Ferry\"}, {\"credit_id\": \"52fe4bf7c3a368484e1a066b\", \"department\": \"Writing\", \"gender\": 2, \"id\": 4782, \"job\": \"Characters\", \"name\": \"Michael Crichton\"}, {\"credit_id\": \"554918c292514104c4000270\", \"department\": \"Art\", \"gender\": 2, \"id\": 4953, \"job\": \"Production Design\", \"name\": \"Ed Verreaux\"}, {\"credit_id\": \"554918ecc3a36841bf00025f\", \"department\": \"Art\", \"gender\": 1, \"id\": 6922, \"job\": \"Art Direction\", \"name\": \"Christa Munro\"}, {\"credit_id\": \"554923fcc3a36841b90003e9\", \"department\": \"Art\", \"gender\": 1, \"id\": 20586, \"job\": \"Set Designer\", \"name\": \"Stella Vaccaro\"}, {\"credit_id\": \"588fdb3992514133a5000120\", \"department\": \"Visual Effects\", \"gender\": 2, \"id\": 7727, \"job\": \"Visual Effects\", \"name\": \"Phil Tippett\"}, {\"credit_id\": \"55492593c3a36841b9000427\", \"department\": \"Sound\", \"gender\": 0, \"id\": 8160, \"job\": \"Foley\", \"name\": \"Dennie Thorpe\"}, {\"credit_id\": \"554925b1c3a36841b2000383\", \"department\": \"Sound\", \"gender\": 0, \"id\": 8163, \"job\": \"Foley\", \"name\": \"Jana Vance\"}, {\"credit_id\": \"55492566c3a36841b9000420\", \"department\": \"Sound\", \"gender\": 0, \"id\": 8166, \"job\": \"Sound Re-Recording Mixer\", \"name\": \"Juan Peralta\"}, {\"credit_id\": \"5549191b92514104b80002a6\", \"department\": \"Costume & Make-Up\", \"gender\": 2, \"id\": 8411, \"job\": \"Costume Design\", \"name\": \"Daniel Orlandi\"}, {\"credit_id\": \"554927ed92514104b800041a\", \"department\": \"Visual Effects\", \"gender\": 0, \"id\": 11300, \"job\": \"Visual Effects Supervisor\", \"name\": \"Tim Alexander\"}, {\"credit_id\": \"5624b14792514171c5011376\", \"department\": \"Crew\", \"gender\": 0, \"id\": 12575, \"job\": \"Second Unit Cinematographer\", \"name\": \"Patrick Loungway\"}, {\"credit_id\": \"566718dbc3a36808e60019ac\", \"department\": \"Crew\", \"gender\": 0, \"id\": 13031, \"job\": \"Stunt Coordinator\", \"name\": \"Rocky Capella\"}, {\"credit_id\": \"55492c4392514104ca0003d0\", \"department\": \"Visual Effects\", \"gender\": 0, \"id\": 13115, \"job\": \"Modeling\", \"name\": \"Sean House\"}, {\"credit_id\": \"554918afc3a36841b2000264\", \"department\": \"Editing\", \"gender\": 2, \"id\": 11001, \"job\": \"Editor\", \"name\": \"Kevin Stitt\"}, {\"credit_id\": \"55f0c173c3a368230300004d\", \"department\": \"Sound\", \"gender\": 2, \"id\": 15347, \"job\": \"Original Music Composer\", \"name\": \"Michael Giacchino\"}, {\"credit_id\": \"5624b1069251413ded002912\", \"department\": \"Camera\", \"gender\": 0, \"id\": 42032, \"job\": \"Camera Operator\", \"name\": \"Ian Fox\"}, {\"credit_id\": \"554918d292514104c700026d\", \"department\": \"Art\", \"gender\": 0, \"id\": 18867, \"job\": \"Art Direction\", \"name\": \"Page Buckner\"}, {\"credit_id\": \"5549184ec3a36841b200025c\", \"department\": \"Production\", \"gender\": 2, \"id\": 25600, \"job\": \"Producer\", \"name\": \"Patrick Crowley\"}, {\"credit_id\": \"554919d4c3a36841af00029a\", \"department\": \"Costume & Make-Up\", \"gender\": 0, \"id\": 32282, \"job\": \"Hair Setup\", \"name\": \"Mary L. Mastro\"}, {\"credit_id\": \"5549188792514104ba0002b8\", \"department\": \"Production\", \"gender\": 0, \"id\": 54211, \"job\": \"Executive Producer\", \"name\": \"Thomas Tull\"}, {\"credit_id\": \"55492b9392514104c0000411\", \"department\": \"Crew\", \"gender\": 0, \"id\": 57065, \"job\": \"Compositors\", \"name\": \"Melissa Goddard\"}, {\"credit_id\": \"55495370c3a36841af000816\", \"department\": \"Crew\", \"gender\": 2, \"id\": 60261, \"job\": \"Thanks\", \"name\": \"Stan Winston\"}, {\"credit_id\": \"52fe4bf7c3a368484e1a0671\", \"department\": \"Writing\", \"gender\": 2, \"id\": 67802, \"job\": \"Screenplay\", \"name\": \"Rick Jaffa\"}, {\"credit_id\": \"5549182e92514104ba0002ae\", \"department\": \"Writing\", \"gender\": 2, \"id\": 67802, \"job\": \"Story\", \"name\": \"Rick Jaffa\"}, {\"credit_id\": \"52fe4bf7c3a368484e1a067d\", \"department\": \"Writing\", \"gender\": 1, \"id\": 67803, \"job\": \"Screenplay\", \"name\": \"Amanda Silver\"}, {\"credit_id\": \"55491837c3a36841bf00024e\", \"department\": \"Writing\", \"gender\": 1, \"id\": 67803, \"job\": \"Story\", \"name\": \"Amanda Silver\"}, {\"credit_id\": \"55493552c3a36841ab00051a\", \"department\": \"Crew\", \"gender\": 0, \"id\": 92491, \"job\": \"Stunts\", \"name\": \"Danny Downey\"}, {\"credit_id\": \"55493721c3a36841b200055c\", \"department\": \"Crew\", \"gender\": 2, \"id\": 92503, \"job\": \"Stunts\", \"name\": \"Felipe Savahge\"}, {\"credit_id\": \"5624b286c3a3680e19011261\", \"department\": \"Camera\", \"gender\": 0, \"id\": 71127, \"job\": \"Underwater Camera\", \"name\": \"Peter Zuccarini\"}, {\"credit_id\": \"554935e0c3a36841ab000528\", \"department\": \"Crew\", \"gender\": 0, \"id\": 78890, \"job\": \"Stunts\", \"name\": \"Keith Jardine\"}, {\"credit_id\": \"5665fc7cc3a368069f000c4f\", \"department\": \"Sound\", \"gender\": 2, \"id\": 75380, \"job\": \"Boom Operator\", \"name\": \"Robert Jackson\"}, {\"credit_id\": \"55494a8292514104c700071d\", \"department\": \"Lighting\", \"gender\": 2, \"id\": 79790, \"job\": \"Gaffer\", \"name\": \"Rafael E. S\\u00e1nchez\"}, {\"credit_id\": \"554934ebc3a36841b200053c\", \"department\": \"Crew\", \"gender\": 0, \"id\": 82350, \"job\": \"Stunts\", \"name\": \"David Castillo\"}, {\"credit_id\": \"5624b1c29251413ded002938\", \"department\": \"Camera\", \"gender\": 0, \"id\": 91123, \"job\": \"Helicopter Camera\", \"name\": \"Michael Kelem\"}, {\"credit_id\": \"554926be92514104ba000427\", \"department\": \"Crew\", \"gender\": 2, \"id\": 93258, \"job\": \"Special Effects\", \"name\": \"Michael Lantieri\"}, {\"credit_id\": \"586ccd5b925141087000618d\", \"department\": \"Writing\", \"gender\": 0, \"id\": 111893, \"job\": \"Storyboard\", \"name\": \"John Coven\"}, {\"credit_id\": \"554918e3c3a36841b90002a2\", \"department\": \"Art\", \"gender\": 1, \"id\": 137175, \"job\": \"Art Direction\", \"name\": \"Caty Maxey\"}, {\"credit_id\": \"554934a592514104ba000594\", \"department\": \"Crew\", \"gender\": 0, \"id\": 186922, \"job\": \"Stunts\", \"name\": \"Tim Bell\"}, {\"credit_id\": \"55491ca492514104ca000297\", \"department\": \"Crew\", \"gender\": 2, \"id\": 195078, \"job\": \"Prop Maker\", \"name\": \"Tom Curtis\"}, {\"credit_id\": \"554933af92514104c00004b0\", \"department\": \"Visual Effects\", \"gender\": 0, \"id\": 229860, \"job\": \"Animation\", \"name\": \"Cameron Widen\"}, {\"credit_id\": \"5549220fc3a36841b60002f8\", \"department\": \"Art\", \"gender\": 0, \"id\": 484529, \"job\": \"Art Department Coordinator\", \"name\": \"Mike Piccirillo\"}, {\"credit_id\": \"55493570c3a36841c10004f0\", \"department\": \"Crew\", \"gender\": 2, \"id\": 550473, \"job\": \"Stunts\", \"name\": \"Jeff Galpin\"}, {\"credit_id\": \"554939aec3a36841b900066c\", \"department\": \"Lighting\", \"gender\": 0, \"id\": 575694, \"job\": \"Electrician\", \"name\": \"John Gregory Edwards\"}, {\"credit_id\": \"55492079c3a36841c10002dd\", \"department\": \"Art\", \"gender\": 0, \"id\": 575765, \"job\": \"Set Designer\", \"name\": \"Kevin Loo\"}, {\"credit_id\": \"554952e692514104ca000735\", \"department\": \"Crew\", \"gender\": 0, \"id\": 575769, \"job\": \"Transportation Coordinator\", \"name\": \"Aaron Skalka\"}, {\"credit_id\": \"5549199c92514104b80002ad\", \"department\": \"Costume & Make-Up\", \"gender\": 0, \"id\": 578723, \"job\": \"Hairstylist\", \"name\": \"Sherri Hamilton\"}, {\"credit_id\": \"55f0c11d9251416711000045\", \"department\": \"Writing\", \"gender\": 2, \"id\": 930707, \"job\": \"Screenplay\", \"name\": \"Colin Trevorrow\"}, {\"credit_id\": \"52fe4bf7c3a368484e1a0695\", \"department\": \"Directing\", \"gender\": 2, \"id\": 930707, \"job\": \"Director\", \"name\": \"Colin Trevorrow\"}, {\"credit_id\": \"55491c0d92514104ca000286\", \"department\": \"Art\", \"gender\": 2, \"id\": 959555, \"job\": \"Set Designer\", \"name\": \"Todd Cherniawsky\"}, {\"credit_id\": \"5549182592514104cd000255\", \"department\": \"Writing\", \"gender\": 2, \"id\": 1020013, \"job\": \"Screenplay\", \"name\": \"Derek Connolly\"}, {\"credit_id\": \"55493524c3a36841af000567\", \"department\": \"Crew\", \"gender\": 0, \"id\": 1025667, \"job\": \"Stunts\", \"name\": \"Craig H. Davidson\"}, {\"credit_id\": \"5549490c92514104ca000662\", \"department\": \"Lighting\", \"gender\": 0, \"id\": 1045115, \"job\": \"Gaffer\", \"name\": \"Michael Maley\"}, {\"credit_id\": \"5549277ec3a36841af0003e9\", \"department\": \"Crew\", \"gender\": 2, \"id\": 1056155, \"job\": \"Special Effects\", \"name\": \"Cole Taylor\"}, {\"credit_id\": \"5549350ec3a36841bf000564\", \"department\": \"Crew\", \"gender\": 0, \"id\": 1089920, \"job\": \"Stunts\", \"name\": \"Tim Connolly\"}, {\"credit_id\": \"5624b3acc3a3680e1001121a\", \"department\": \"Costume & Make-Up\", \"gender\": 0, \"id\": 1095271, \"job\": \"Makeup Department Head\", \"name\": \"Vivian Baker\"}, {\"credit_id\": \"55493637c3a36841b9000606\", \"department\": \"Crew\", \"gender\": 0, \"id\": 1106629, \"job\": \"Stunts\", \"name\": \"Raymond Mamrak\"}, {\"credit_id\": \"55492f91c3a36841a900053d\", \"department\": \"Crew\", \"gender\": 0, \"id\": 1155551, \"job\": \"Visual Effects Editor\", \"name\": \"Kindra Marra\"}, {\"credit_id\": \"554935cb92514104ba0005af\", \"department\": \"Crew\", \"gender\": 0, \"id\": 1191027, \"job\": \"Stunts\", \"name\": \"Daniel Hern\\u00e1ndez\"}, {\"credit_id\": \"554918f692514104c4000275\", \"department\": \"Art\", \"gender\": 0, \"id\": 1195362, \"job\": \"Art Direction\", \"name\": \"David Scott\"}, {\"credit_id\": \"55494bb392514104ba000787\", \"department\": \"Lighting\", \"gender\": 0, \"id\": 1215298, \"job\": \"Lighting Technician\", \"name\": \"Vince Young\"}, {\"credit_id\": \"554926f692514104c70003bb\", \"department\": \"Crew\", \"gender\": 0, \"id\": 1224272, \"job\": \"Special Effects\", \"name\": \"John McLeod\"}, {\"credit_id\": \"55493756c3a36841b200055f\", \"department\": \"Crew\", \"gender\": 1, \"id\": 1235012, \"job\": \"Stunts\", \"name\": \"Taryn Terrell\"}, {\"credit_id\": \"55491a6192514104cd00027a\", \"department\": \"Production\", \"gender\": 2, \"id\": 1235227, \"job\": \"Production Supervisor\", \"name\": \"Scott Trimble\"}, {\"credit_id\": \"554935fb92514104be000590\", \"department\": \"Crew\", \"gender\": 0, \"id\": 1247272, \"job\": \"Stunts\", \"name\": \"Zero Kazama\"}, {\"credit_id\": \"554935b492514104ba0005ab\", \"department\": \"Crew\", \"gender\": 2, \"id\": 1275523, \"job\": \"Stunts\", \"name\": \"Charles Haugk\"}, {\"credit_id\": \"554936c1c3a36841af000588\", \"department\": \"Crew\", \"gender\": 0, \"id\": 1285241, \"job\": \"Stunts\", \"name\": \"Gary Price\"}, {\"credit_id\": \"55491973c3a36841bf00026f\", \"department\": \"Costume & Make-Up\", \"gender\": 0, \"id\": 1304298, \"job\": \"Makeup Artist\", \"name\": \"Melanie Deforrest\"}, {\"credit_id\": \"5549216e92514104c000031d\", \"department\": \"Art\", \"gender\": 0, \"id\": 1309482, \"job\": \"Art Direction\", \"name\": \"Mark 'Crash' McCreery\"}, {\"credit_id\": \"554926d6c3a36841af0003dc\", \"department\": \"Crew\", \"gender\": 0, \"id\": 1309482, \"job\": \"Special Effects\", \"name\": \"Mark 'Crash' McCreery\"}, {\"credit_id\": \"55494ddcc3a36841af0007af\", \"department\": \"Costume & Make-Up\", \"gender\": 0, \"id\": 1319157, \"job\": \"Set Costumer\", \"name\": \"Hannah Gates\"}, {\"credit_id\": \"55494dec92514104c00006c3\", \"department\": \"Costume & Make-Up\", \"gender\": 0, \"id\": 1320974, \"job\": \"Set Costumer\", \"name\": \"Ren Heeralal\"}, {\"credit_id\": \"55494e4a92514104ca0006d4\", \"department\": \"Costume & Make-Up\", \"gender\": 0, \"id\": 1328407, \"job\": \"Costume Supervisor\", \"name\": \"Elaine Ramires\"}, {\"credit_id\": \"55491a3492514104cd000273\", \"department\": \"Costume & Make-Up\", \"gender\": 0, \"id\": 1333900, \"job\": \"Makeup Artist\", \"name\": \"Michelle Vittone\"}, {\"credit_id\": \"55491c0392514104ca000284\", \"department\": \"Art\", \"gender\": 0, \"id\": 1339435, \"job\": \"Set Designer\", \"name\": \"Lorrie Campbell\"}, {\"credit_id\": \"55491876c3a36841bf000255\", \"department\": \"Production\", \"gender\": 0, \"id\": 1341268, \"job\": \"Associate Producer\", \"name\": \"Christopher Raimo\"}, {\"credit_id\": \"5549535992514104ca000739\", \"department\": \"Crew\", \"gender\": 0, \"id\": 1347762, \"job\": \"Thanks\", \"name\": \"James P. Schramm\"}, {\"credit_id\": \"5549204a92514104b8000342\", \"department\": \"Art\", \"gender\": 0, \"id\": 1352962, \"job\": \"Set Designer\", \"name\": \"Tammy S. Lee\"}, {\"credit_id\": \"5549240792514104ba0003d5\", \"department\": \"Art\", \"gender\": 0, \"id\": 1355530, \"job\": \"Sculptor\", \"name\": \"Cuitlahuac Morales Velazquez\"}, {\"credit_id\": \"5549355cc3a36841a90005e9\", \"department\": \"Crew\", \"gender\": 0, \"id\": 1367516, \"job\": \"Stunts\", \"name\": \"Timothy Eulich\"}, {\"credit_id\": \"55495305c3a36841c100078f\", \"department\": \"Crew\", \"gender\": 0, \"id\": 1367945, \"job\": \"Driver\", \"name\": \"Steve Smitherman\"}, {\"credit_id\": \"55492431c3a36841c100032e\", \"department\": \"Art\", \"gender\": 0, \"id\": 1368863, \"job\": \"Set Designer\", \"name\": \"Randall D. Wilkins\"}, {\"credit_id\": \"55491f6ec3a36841b2000301\", \"department\": \"Art\", \"gender\": 0, \"id\": 1370904, \"job\": \"Sculptor\", \"name\": \"Chris Hopkins\"}, {\"credit_id\": \"55491c3892514104ca00028a\", \"department\": \"Art\", \"gender\": 0, \"id\": 1376889, \"job\": \"Set Designer\", \"name\": \"David Chow\"}, {\"credit_id\": \"554925c7c3a36841af0003b8\", \"department\": \"Sound\", \"gender\": 0, \"id\": 1376902, \"job\": \"Supervising Sound Editor\", \"name\": \"Gwendolyn Yates Whittle\"}, {\"credit_id\": \"55491fd692514104c0000303\", \"department\": \"Costume & Make-Up\", \"gender\": 0, \"id\": 1386905, \"job\": \"Set Dressing Artist\", \"name\": \"Jenni Knight\"}, {\"credit_id\": \"55492f3a92514104cd00049a\", \"department\": \"Visual Effects\", \"gender\": 0, \"id\": 1386913, \"job\": \"Visual Effects Producer\", \"name\": \"Greg Maloney\"}, {\"credit_id\": \"55493676c3a36841af000582\", \"department\": \"Crew\", \"gender\": 0, \"id\": 1387252, \"job\": \"Stunt Coordinator\", \"name\": \"Chris O'Hara\"}, {\"credit_id\": \"55492589c3a36841af0003ab\", \"department\": \"Sound\", \"gender\": 0, \"id\": 1388864, \"job\": \"ADR & Dubbing\", \"name\": \"Brad Semenoff\"}, {\"credit_id\": \"5624da759251413ded003084\", \"department\": \"Editing\", \"gender\": 0, \"id\": 1388864, \"job\": \"Dialogue Editor\", \"name\": \"Brad Semenoff\"}, {\"credit_id\": \"55493172c3a36841c1000486\", \"department\": \"Visual Effects\", \"gender\": 0, \"id\": 1388872, \"job\": \"Visual Effects Supervisor\", \"name\": \"Katherine Rodtsbrooks\"}, {\"credit_id\": \"5624e71cc3a3680e10011be6\", \"department\": \"Sound\", \"gender\": 0, \"id\": 1389136, \"job\": \"Music Editor\", \"name\": \"Paul Apelgren\"}, {\"credit_id\": \"56814d0792514131df00e332\", \"department\": \"Art\", \"gender\": 0, \"id\": 1390516, \"job\": \"Sculptor\", \"name\": \"David James\"}, {\"credit_id\": \"5549243c92514104b80003b6\", \"department\": \"Art\", \"gender\": 0, \"id\": 1391123, \"job\": \"Greensman\", \"name\": \"Liloa Wong\"}, {\"credit_id\": \"5549216392514104cd00032b\", \"department\": \"Art\", \"gender\": 0, \"id\": 1392116, \"job\": \"Set Designer\", \"name\": \"Masako Masuda\"}, {\"credit_id\": \"554949d7c3a36841af000759\", \"department\": \"Lighting\", \"gender\": 0, \"id\": 1392612, \"job\": \"Electrician\", \"name\": \"Ahmad Powell\"}, {\"credit_id\": \"5549392e92514104be0005e3\", \"department\": \"Lighting\", \"gender\": 0, \"id\": 1392943, \"job\": \"Gaffer\", \"name\": \"Joshua Davis\"}, {\"credit_id\": \"554919b892514104be000289\", \"department\": \"Costume & Make-Up\", \"gender\": 0, \"id\": 1393581, \"job\": \"Makeup Artist\", \"name\": \"Jack Lazzaro\"}, {\"credit_id\": \"55494bc092514104c00006a2\", \"department\": \"Camera\", \"gender\": 0, \"id\": 1394724, \"job\": \"Still Photographer\", \"name\": \"Chuck Zlotnick\"}, {\"credit_id\": \"55491d4292514104c40002c7\", \"department\": \"Art\", \"gender\": 0, \"id\": 1395432, \"job\": \"Set Designer\", \"name\": \"Forest P. Fischer\"}, {\"credit_id\": \"55491b9492514104c70002b5\", \"department\": \"Art\", \"gender\": 0, \"id\": 1399290, \"job\": \"Set Designer\", \"name\": \"Ernie Avila\"}, {\"credit_id\": \"5549338292514104ba00057e\", \"department\": \"Visual Effects\", \"gender\": 0, \"id\": 1400403, \"job\": \"Visual Effects Producer\", \"name\": \"Shawn Walsh\"}, {\"credit_id\": \"5549218d92514104ca0002eb\", \"department\": \"Art\", \"gender\": 0, \"id\": 1400547, \"job\": \"Set Designer\", \"name\": \"Ron Mendell\"}, {\"credit_id\": \"5549203f92514104be000337\", \"department\": \"Art\", \"gender\": 0, \"id\": 1400555, \"job\": \"Set Designer\", \"name\": \"George Lee\"}, {\"credit_id\": \"5549233892514104be000399\", \"department\": \"Art\", \"gender\": 0, \"id\": 1400855, \"job\": \"Greensman\", \"name\": \"Alex Sessing\"}, {\"credit_id\": \"5624afac92514139800001bd\", \"department\": \"Camera\", \"gender\": 2, \"id\": 1401109, \"job\": \"Steadicam Operator\", \"name\": \"Chris Haarhoff\"}, {\"credit_id\": \"55494a5ec3a36841b6000671\", \"department\": \"Lighting\", \"gender\": 0, \"id\": 1401807, \"job\": \"Best Boy Electric\", \"name\": \"Scott Sprague\"}, {\"credit_id\": \"55491cc5c3a36841b20002d6\", \"department\": \"Art\", \"gender\": 0, \"id\": 1401884, \"job\": \"Sculptor\", \"name\": \"Yann Denoual\"}, {\"credit_id\": \"55492a55c3a36841c10003ca\", \"department\": \"Crew\", \"gender\": 0, \"id\": 1401893, \"job\": \"Visual Effects Editor\", \"name\": \"Lorelei David\"}, {\"credit_id\": \"5624b1e7c3a3680e1d012052\", \"department\": \"Camera\", \"gender\": 2, \"id\": 1403415, \"job\": \"Helicopter Camera\", \"name\": \"David B. Nowell\"}, {\"credit_id\": \"5549197dc3a36841b90002b5\", \"department\": \"Costume & Make-Up\", \"gender\": 0, \"id\": 1403425, \"job\": \"Hairstylist\", \"name\": \"Mahealani Diego\"}, {\"credit_id\": \"55491bd592514104c70002b9\", \"department\": \"Art\", \"gender\": 0, \"id\": 1403432, \"job\": \"Construction Coordinator\", \"name\": \"Robert A. Blackburn\"}, {\"credit_id\": \"5549198a92514104c4000284\", \"department\": \"Costume & Make-Up\", \"gender\": 0, \"id\": 1404190, \"job\": \"Makeup Artist\", \"name\": \"Karri Farris\"}, {\"credit_id\": \"554947eac3a36841af000715\", \"department\": \"Camera\", \"gender\": 0, \"id\": 1405389, \"job\": \"Director of Photography\", \"name\": \"Ronald Hersey\"}, {\"credit_id\": \"554924f192514104c700037c\", \"department\": \"Sound\", \"gender\": 0, \"id\": 1406872, \"job\": \"Foley\", \"name\": \"Nia Hansen\"}, {\"credit_id\": \"5549193c92514104c0000267\", \"department\": \"Costume & Make-Up\", \"gender\": 0, \"id\": 1407340, \"job\": \"Hairstylist\", \"name\": \"Melizah Anguiano\"}, {\"credit_id\": \"55494db2c3a36841b60006be\", \"department\": \"Costume & Make-Up\", \"gender\": 0, \"id\": 1407371, \"job\": \"Set Costumer\", \"name\": \"Frank Avanzo\"}, {\"credit_id\": \"55492690c3a36841b900044a\", \"department\": \"Visual Effects\", \"gender\": 0, \"id\": 1407702, \"job\": \"Modeling\", \"name\": \"Allan B. Holt\"}, {\"credit_id\": \"55491a13c3a36841a90002d5\", \"department\": \"Costume & Make-Up\", \"gender\": 0, \"id\": 1411166, \"job\": \"Hairstylist\", \"name\": \"Peter Tothpal\"}, {\"credit_id\": \"554924dd92514104c7000379\", \"department\": \"Sound\", \"gender\": 0, \"id\": 1412984, \"job\": \"Sound Effects Editor\", \"name\": \"Pascal Garneau\"}, {\"credit_id\": \"55493606c3a36841ab00052b\", \"department\": \"Crew\", \"gender\": 0, \"id\": 1413402, \"job\": \"Stunts\", \"name\": \"Patrick Kearns\"}, {\"credit_id\": \"554924e792514104b80003cd\", \"department\": \"Sound\", \"gender\": 0, \"id\": 1414178, \"job\": \"Sound Effects Editor\", \"name\": \"Scott Guitteau\"}, {\"credit_id\": \"55491cb9c3a36841a9000315\", \"department\": \"Crew\", \"gender\": 0, \"id\": 1414497, \"job\": \"Property Master\", \"name\": \"Guillaume DeLouche\"}, {\"credit_id\": \"554919e592514104b80002b1\", \"department\": \"Costume & Make-Up\", \"gender\": 0, \"id\": 1415334, \"job\": \"Makeup Artist\", \"name\": \"Paige Reeves\"}, {\"credit_id\": \"55492509c3a36841bf000379\", \"department\": \"Sound\", \"gender\": 0, \"id\": 1416386, \"job\": \"Sound Re-Recording Mixer\", \"name\": \"Pete Horner\"}, {\"credit_id\": \"554919efc3a36841b200028b\", \"department\": \"Costume & Make-Up\", \"gender\": 0, \"id\": 1418349, \"job\": \"Makeup Artist\", \"name\": \"LeDiedra Richard-Baldwin\"}, {\"credit_id\": \"55491a0a92514104cd00026f\", \"department\": \"Costume & Make-Up\", \"gender\": 0, \"id\": 1418350, \"job\": \"Makeup Artist\", \"name\": \"Emily Tatum\"}, {\"credit_id\": \"55492546c3a36841a900044c\", \"department\": \"Sound\", \"gender\": 0, \"id\": 1422411, \"job\": \"Sound Designer\", \"name\": \"Al Nelson\"}, {\"credit_id\": \"554919c292514104ba0002ce\", \"department\": \"Costume & Make-Up\", \"gender\": 0, \"id\": 1431553, \"job\": \"Makeup Artist\", \"name\": \"Courtney Lether\"}, {\"credit_id\": \"5549496fc3a36841b2000769\", \"department\": \"Lighting\", \"gender\": 0, \"id\": 1432024, \"job\": \"Electrician\", \"name\": \"Charlie McIntyre\"}, {\"credit_id\": \"554919f892514104be00028d\", \"department\": \"Costume & Make-Up\", \"gender\": 0, \"id\": 1434557, \"job\": \"Makeup Artist\", \"name\": \"Jami Ross\"}, {\"credit_id\": \"55492b87c3a36841b200040a\", \"department\": \"Visual Effects\", \"gender\": 0, \"id\": 1444958, \"job\": \"Visual Effects Producer\", \"name\": \"Justin Gladden\"}, {\"credit_id\": \"5549253ac3a36841b200037d\", \"department\": \"Editing\", \"gender\": 0, \"id\": 1445834, \"job\": \"Dialogue Editor\", \"name\": \"Stuart McCowan\"}, {\"credit_id\": \"5549201d92514104c700031f\", \"department\": \"Costume & Make-Up\", \"gender\": 0, \"id\": 1447938, \"job\": \"Set Dressing Artist\", \"name\": \"Kevin C. Lang\"}, {\"credit_id\": \"5549273492514104be000425\", \"department\": \"Crew\", \"gender\": 0, \"id\": 1453663, \"job\": \"Special Effects\", \"name\": \"Jacob Roanhaus\"}, {\"credit_id\": \"554936b8c3a36841bf000584\", \"department\": \"Crew\", \"gender\": 0, \"id\": 1453905, \"job\": \"Stunts\", \"name\": \"Kara Petersen\"}, {\"credit_id\": \"5549358f92514104ba0005a5\", \"department\": \"Crew\", \"gender\": 0, \"id\": 1455499, \"job\": \"Stunts\", \"name\": \"Regis Harrington\"}, {\"credit_id\": \"554684d49251413fc00042c1\", \"department\": \"Visual Effects\", \"gender\": 0, \"id\": 1455598, \"job\": \"Animation\", \"name\": \"Mike Dharney\"}, {\"credit_id\": \"55340997c3a3680bdc00053a\", \"department\": \"Crew\", \"gender\": 0, \"id\": 1456696, \"job\": \"Compositors\", \"name\": \"Brian N. Bentley\"}, {\"credit_id\": \"570f0b5a92514102bc0016e5\", \"department\": \"Editing\", \"gender\": 0, \"id\": 1457666, \"job\": \"Assistant Editor\", \"name\": \"Kris Cole\"}, {\"credit_id\": \"5549378e92514104c4000538\", \"department\": \"Crew\", \"gender\": 0, \"id\": 1457917, \"job\": \"Stunts\", \"name\": \"Nico Woulard\"}, {\"credit_id\": \"5549195fc3a36841a90002ba\", \"department\": \"Costume & Make-Up\", \"gender\": 0, \"id\": 1458084, \"job\": \"Makeup Artist\", \"name\": \"Chantal Boom'la\"}, {\"credit_id\": \"55491a01c3a36841a90002cd\", \"department\": \"Costume & Make-Up\", \"gender\": 0, \"id\": 1458086, \"job\": \"Makeup Artist\", \"name\": \"Laine Rykes\"}, {\"credit_id\": \"55494ab7c3a36841a90007d1\", \"department\": \"Lighting\", \"gender\": 0, \"id\": 1458141, \"job\": \"Rigging Gaffer\", \"name\": \"Don Tomich\"}, {\"credit_id\": \"55494bf692514104ca000694\", \"department\": \"Visual Effects\", \"gender\": 0, \"id\": 1459728, \"job\": \"Animation\", \"name\": \"Kyle Dunlevy\"}, {\"credit_id\": \"55494c6992514104ba000797\", \"department\": \"Visual Effects\", \"gender\": 0, \"id\": 1459736, \"job\": \"Animation\", \"name\": \"Travis Tohill\"}, {\"credit_id\": \"55494c1292514104b800076c\", \"department\": \"Visual Effects\", \"gender\": 0, \"id\": 1459744, \"job\": \"Animation\", \"name\": \"Cameron Folds\"}, {\"credit_id\": \"55494c2fc3a36841c10006f2\", \"department\": \"Visual Effects\", \"gender\": 0, \"id\": 1459748, \"job\": \"Animation\", \"name\": \"Peer Lemmers\"}, {\"credit_id\": \"55494c3cc3a36841b60006a2\", \"department\": \"Visual Effects\", \"gender\": 0, \"id\": 1459752, \"job\": \"Animation\", \"name\": \"Andrew Malesky\"}, {\"credit_id\": \"55494c9ac3a36841af000798\", \"department\": \"Visual Effects\", \"gender\": 0, \"id\": 1459764, \"job\": \"Animation\", \"name\": \"Luis Carlos Uribe\"}, {\"credit_id\": \"55494ca7c3a36841af00079b\", \"department\": \"Visual Effects\", \"gender\": 0, \"id\": 1459766, \"job\": \"Animation\", \"name\": \"Bob Wilson\"}, {\"credit_id\": \"5549288992514104c70003e6\", \"department\": \"Visual Effects\", \"gender\": 0, \"id\": 1459774, \"job\": \"Animation\", \"name\": \"Eric Bates\"}, {\"credit_id\": \"5548d2cb92514156090022e3\", \"department\": \"Visual Effects\", \"gender\": 0, \"id\": 1460608, \"job\": \"Animation\", \"name\": \"Emilio Ghorayeb\"}, {\"credit_id\": \"5624dfabc3a368686800b646\", \"department\": \"Lighting\", \"gender\": 0, \"id\": 1460624, \"job\": \"Lighting Supervisor\", \"name\": \"Celia Jepson\"}, {\"credit_id\": \"5549282bc3a36841b9000471\", \"department\": \"Crew\", \"gender\": 0, \"id\": 1460645, \"job\": \"Compositors\", \"name\": \"Dwight Angelito\"}, {\"credit_id\": \"554929d292514104ba000484\", \"department\": \"Crew\", \"gender\": 0, \"id\": 1460647, \"job\": \"Compositors\", \"name\": \"Darrell Claunch\"}, {\"credit_id\": \"554918dac3a36841c1000247\", \"department\": \"Art\", \"gender\": 0, \"id\": 1463269, \"job\": \"Art Direction\", \"name\": \"Nick Crocco\"}, {\"credit_id\": \"55491955c3a36841ab000264\", \"department\": \"Costume & Make-Up\", \"gender\": 0, \"id\": 1463270, \"job\": \"Hairstylist\", \"name\": \"Lawrnell Bell-Rattler\"}, {\"credit_id\": \"5549196992514104ca000256\", \"department\": \"Costume & Make-Up\", \"gender\": 0, \"id\": 1463271, \"job\": \"Makeup Artist\", \"name\": \"Natalie Cordray\"}, {\"credit_id\": \"554919a5c3a36841a90002be\", \"department\": \"Costume & Make-Up\", \"gender\": 0, \"id\": 1463272, \"job\": \"Hairstylist\", \"name\": \"Jennifer Hodges\"}, {\"credit_id\": \"554919aec3a36841bf000276\", \"department\": \"Costume & Make-Up\", \"gender\": 0, \"id\": 1463273, \"job\": \"Hairstylist\", \"name\": \"Stephanie Jennings\"}, {\"credit_id\": \"554919cbc3a36841b2000284\", \"department\": \"Costume & Make-Up\", \"gender\": 0, \"id\": 1463274, \"job\": \"Makeup Artist\", \"name\": \"Annabelle MacNeal\"}, {\"credit_id\": \"55491a1dc3a36841b200028f\", \"department\": \"Costume & Make-Up\", \"gender\": 0, \"id\": 1463275, \"job\": \"Hairstylist\", \"name\": \"Linda Traxler\"}, {\"credit_id\": \"55491a2892514104ca000264\", \"department\": \"Costume & Make-Up\", \"gender\": 0, \"id\": 1463276, \"job\": \"Makeup Artist\", \"name\": \"Vicki Vacca\"}, {\"credit_id\": \"55491a3e92514104c700028b\", \"department\": \"Costume & Make-Up\", \"gender\": 0, \"id\": 1463277, \"job\": \"Hairstylist\", \"name\": \"Crystal Wells\"}, {\"credit_id\": \"5624e64cc3a368240d00b293\", \"department\": \"Production\", \"gender\": 0, \"id\": 1463278, \"job\": \"Production Supervisor\", \"name\": \"Russell Allen\"}, {\"credit_id\": \"5624e320c3a368240d00b1c2\", \"department\": \"Production\", \"gender\": 0, \"id\": 1463279, \"job\": \"Executive In Charge Of Production\", \"name\": \"Ty Warren\"}, {\"credit_id\": \"55491a98c3a36841b600025d\", \"department\": \"Directing\", \"gender\": 0, \"id\": 1463281, \"job\": \"Assistant Director\", \"name\": \"Chris Castaldi\"}, {\"credit_id\": \"55491ad6c3a36841bf000294\", \"department\": \"Directing\", \"gender\": 0, \"id\": 1463286, \"job\": \"Assistant Director\", \"name\": \"Scott Koche\"}, {\"credit_id\": \"55491b02c3a36841b20002b5\", \"department\": \"Directing\", \"gender\": 0, \"id\": 1463289, \"job\": \"Assistant Director\", \"name\": \"Joyce McCarthy\"}, {\"credit_id\": \"55491b23c3a36841ab00028b\", \"department\": \"Directing\", \"gender\": 0, \"id\": 1463290, \"job\": \"Assistant Director\", \"name\": \"Nathan Parker\"}, {\"credit_id\": \"55491b3092514104ba0002ec\", \"department\": \"Directing\", \"gender\": 0, \"id\": 1463291, \"job\": \"Assistant Director\", \"name\": \"Stockton David Porter\"}, {\"credit_id\": \"55491b4ac3a36841bf00029f\", \"department\": \"Directing\", \"gender\": 0, \"id\": 1463292, \"job\": \"Assistant Director\", \"name\": \"Zack Smith\"}, {\"credit_id\": \"55491b5692514104cd000290\", \"department\": \"Directing\", \"gender\": 0, \"id\": 1463293, \"job\": \"Assistant Director\", \"name\": \"Spencer Taylor\"}, {\"credit_id\": \"55491b9f92514104be0002be\", \"department\": \"Art\", \"gender\": 0, \"id\": 1463296, \"job\": \"Assistant Art Director\", \"name\": \"Samantha Avila\"}, {\"credit_id\": \"55491bbfc3a36841bf0002b5\", \"department\": \"Crew\", \"gender\": 0, \"id\": 1463298, \"job\": \"Propmaker\", \"name\": \"Guy Belegaud\"}, {\"credit_id\": \"55491bcac3a36841b20002c6\", \"department\": \"Crew\", \"gender\": 0, \"id\": 1463299, \"job\": \"Propmaker\", \"name\": \"Mark Bialuski\"}, {\"credit_id\": \"55491bea92514104cd0002a7\", \"department\": \"Writing\", \"gender\": 0, \"id\": 1463300, \"job\": \"Storyboard\", \"name\": \"Timothy Burgard\"}, {\"credit_id\": \"55491bf8c3a36841b6000285\", \"department\": \"Art\", \"gender\": 0, \"id\": 1463301, \"job\": \"Greensman\", \"name\": \"Alvin S. Cabrinha Jr.\"}, {\"credit_id\": \"55491c6792514104ca000291\", \"department\": \"Writing\", \"gender\": 0, \"id\": 1463304, \"job\": \"Storyboard\", \"name\": \"Robert Consing\"}, {\"credit_id\": \"55491ccec3a36841a9000318\", \"department\": \"Crew\", \"gender\": 0, \"id\": 1463308, \"job\": \"Propmaker\", \"name\": \"Derek Devers\"}, {\"credit_id\": \"55491d5192514104b8000301\", \"department\": \"Visual Effects\", \"gender\": 0, \"id\": 1463310, \"job\": \"Modeling\", \"name\": \"Jeff Frost\"}, {\"credit_id\": \"55491d7b92514104c40002d0\", \"department\": \"Writing\", \"gender\": 0, \"id\": 1463313, \"job\": \"Storyboard\", \"name\": \"Collin Grant\"}, {\"credit_id\": \"55491f42c3a36841b9000351\", \"department\": \"Art\", \"gender\": 0, \"id\": 1463318, \"job\": \"Greensman\", \"name\": \"Mike Herriage\"}, {\"credit_id\": \"55491f62c3a36841b9000356\", \"department\": \"Art\", \"gender\": 0, \"id\": 1463320, \"job\": \"Art Department Assistant\", \"name\": \"Alana Hong\"}, {\"credit_id\": \"55491f89c3a36841c10002bd\", \"department\": \"Art\", \"gender\": 0, \"id\": 1463321, \"job\": \"Assistant Art Director\", \"name\": \"Ryan Shields Johnston\"}, {\"credit_id\": \"55491f95c3a36841ab0002f7\", \"department\": \"Costume & Make-Up\", \"gender\": 0, \"id\": 1463322, \"job\": \"Set Dressing Artist\", \"name\": \"Ty Jones Jr.\"}, {\"credit_id\": \"55491fb1c3a36841c10002cd\", \"department\": \"Writing\", \"gender\": 0, \"id\": 1463323, \"job\": \"Storyboard\", \"name\": \"Philip Keller\"}, {\"credit_id\": \"55492063c3a36841b900037b\", \"department\": \"Crew\", \"gender\": 0, \"id\": 1463329, \"job\": \"Propmaker\", \"name\": \"Paul Lindsey\"}, {\"credit_id\": \"5549208392514104c400030a\", \"department\": \"Art\", \"gender\": 0, \"id\": 1463331, \"job\": \"Set Decoration\", \"name\": \"Matt Lopac\"}, {\"credit_id\": \"55492083c3a36841b9000385\", \"department\": \"Art\", \"gender\": 0, \"id\": 1463330, \"job\": \"Set Decoration\", \"name\": \"Matt Lopac\"}, {\"credit_id\": \"554920bac3a36841a90003f4\", \"department\": \"Writing\", \"gender\": 0, \"id\": 1463332, \"job\": \"Storyboard\", \"name\": \"David Lowery\"}, {\"credit_id\": \"5549210892514104ba000367\", \"department\": \"Costume & Make-Up\", \"gender\": 0, \"id\": 1463334, \"job\": \"Set Dressing Artist\", \"name\": \"Vincent Luizzi\"}, {\"credit_id\": \"5549219a92514104ca0002ee\", \"department\": \"Art\", \"gender\": 0, \"id\": 1463338, \"job\": \"Greensman\", \"name\": \"William Nutt\"}, {\"credit_id\": \"554921a6c3a36841b60002e7\", \"department\": \"Art\", \"gender\": 0, \"id\": 1463339, \"job\": \"Greensman\", \"name\": \"William'Billy' Nutt\"}, {\"credit_id\": \"554921bac3a36841ab000334\", \"department\": \"Crew\", \"gender\": 0, \"id\": 1463340, \"job\": \"Prop Maker\", \"name\": \"Timothy Oakley\"}, {\"credit_id\": \"554921e992514104c4000323\", \"department\": \"Costume & Make-Up\", \"gender\": 0, \"id\": 1463343, \"job\": \"Set Dressing Artist\", \"name\": \"Paul Penley\"}, {\"credit_id\": \"5549223c92514104b8000371\", \"department\": \"Art\", \"gender\": 0, \"id\": 1463348, \"job\": \"Greensman\", \"name\": \"Christopher Ramirez\"}, {\"credit_id\": \"5549225292514104cd000344\", \"department\": \"Art\", \"gender\": 0, \"id\": 1463351, \"job\": \"Art Department Assistant\", \"name\": \"John Michael Riva Jr.\"}, {\"credit_id\": \"5549230e92514104cd000353\", \"department\": \"Art\", \"gender\": 0, \"id\": 1463360, \"job\": \"Art Department Coordinator\", \"name\": \"Joelle-Lyn Sarte\"}, {\"credit_id\": \"5549232fc3a36841c100031b\", \"department\": \"Art\", \"gender\": 0, \"id\": 1463362, \"job\": \"Greensman\", \"name\": \"Codie Scott\"}, {\"credit_id\": \"5549234b92514104ba0003c1\", \"department\": \"Crew\", \"gender\": 0, \"id\": 1463364, \"job\": \"Propmaker\", \"name\": \"Jeff Shewbert\"}, {\"credit_id\": \"5549237f92514104cd000367\", \"department\": \"Art\", \"gender\": 0, \"id\": 1463368, \"job\": \"Sculptor\", \"name\": \"Edward Skade\"}, {\"credit_id\": \"5549238892514104c000034c\", \"department\": \"Costume & Make-Up\", \"gender\": 0, \"id\": 1463369, \"job\": \"Set Dressing Artist\", \"name\": \"Meagan Skerchock\"}, {\"credit_id\": \"5549239592514104c4000350\", \"department\": \"Art\", \"gender\": 0, \"id\": 1463370, \"job\": \"Greensman\", \"name\": \"Spencer Smith\"}, {\"credit_id\": \"5549239ec3a36841af000376\", \"department\": \"Art\", \"gender\": 0, \"id\": 1463371, \"job\": \"Art Department Assistant\", \"name\": \"Karen Sori\"}, {\"credit_id\": \"554923aac3a36841bf000354\", \"department\": \"Art\", \"gender\": 0, \"id\": 1463372, \"job\": \"Set Designer\", \"name\": \"David Soukup\"}, {\"credit_id\": \"554923b492514104c4000358\", \"department\": \"Crew\", \"gender\": 0, \"id\": 1463373, \"job\": \"Propmaker\", \"name\": \"Christopher Stanback\"}, {\"credit_id\": \"554923bfc3a36841ab000356\", \"department\": \"Costume & Make-Up\", \"gender\": 0, \"id\": 1463374, \"job\": \"Set Dressing Artist\", \"name\": \"Sam Sternthall\"}, {\"credit_id\": \"554923cac3a36841b90003e3\", \"department\": \"Writing\", \"gender\": 0, \"id\": 1463375, \"job\": \"Storyboard\", \"name\": \"Dan Sweetman\"}, {\"credit_id\": \"554923d492514104cd000370\", \"department\": \"Art\", \"gender\": 0, \"id\": 1463376, \"job\": \"Greensman\", \"name\": \"Darrell Tachibana\"}, {\"credit_id\": \"554923de92514104c700035a\", \"department\": \"Costume & Make-Up\", \"gender\": 0, \"id\": 1463377, \"job\": \"Set Dressing Artist\", \"name\": \"John Tedlie\"}, {\"credit_id\": \"554923e892514104c7000362\", \"department\": \"Art\", \"gender\": 0, \"id\": 1463378, \"job\": \"Sculptor\", \"name\": \"Bruno Troadec\"}, {\"credit_id\": \"554923f292514104c7000368\", \"department\": \"Writing\", \"gender\": 0, \"id\": 1463379, \"job\": \"Storyboard\", \"name\": \"Amy Lynn Umezu\"}, {\"credit_id\": \"5549241192514104c0000357\", \"department\": \"Art\", \"gender\": 0, \"id\": 1463380, \"job\": \"Set Designer\", \"name\": \"Trinh Vu\"}, {\"credit_id\": \"5549242692514104ba0003db\", \"department\": \"Crew\", \"gender\": 0, \"id\": 1463381, \"job\": \"Propmaker\", \"name\": \"Kevin Whatley\"}, {\"credit_id\": \"55492449c3a36841b2000363\", \"department\": \"Costume &\u001b[0m\n\u001b[1;37m                                                                                                                                                                                                                                                                                                                                                                                                                                                                                                                                                                                                                                                                                                                                                                                                                                                                                                                                                                                                                                                                                                                                                                                                                                                                                                                                                                                                                                                                                                                                                                                                                                                                                                                                                                                                                                                                                                                                                                                                                                                                                                                                                                                                                                                                                                                                                                                                                                                                                                                                                                                                                                                                                                                                                                                                                                                                                                                                                                                                                                                                                                                                                                                                                                                                                                                                                                                                                                                                                                                                                                                                                                                                                                                                                                                                                                                                                                                                                                                                                                                                                                                                                                                                                                                                                                                                                                                                                                                                                                                                                                                                                                                                                                                                                                                                                                                                                                                                                                                                                                                                                                                                                                                                                                                                                                                                                                                                                                                                                                                                                                                                                                                                                                                                                                                                                                                                                                                                                                                                                                                                                                                                                                                                                                                                                                                                                                                                                                                                                                                                                                                                                                                                                                                                                                                                                                                                                                                                                                                                                                                                                                                                                                                                                                                                                                                                                                                                                                                                                                                                                                                                                                                                                                                                                                                                                                                                                                                                                                                                                                                                                                                                                                                                                                                                                                                                                                                                                                                                                                                                                                                                                                                                                                                                                                                                                                                                                                                                                                                                                                                                                                                                                                                                                                                                                                                                                                                                                                                                                                                                                                                                                                                                                                                                                                                                                                                                                                                                                                                                                                                                                                                                                                                                                                                                                                                                                                                                                                                                                                                                                                                                                                                                                                                                                                                                                                                                                                                                                                                                                                                                                                                                                                                                                                                                                                                                                                                                                                                                                                                                                                                                                                                                                                                                                                                                                                                                                                                                                                                                                                                                                                                                                                                                                                                                                                                                                                                                                                                                                                                                                                                                                                                                                                                                                                                                                                                                                                                                                                                                                                                                                                                                                                                                                                                                                                                                                                                                                                                                                                                                                                                                                                                                                                                                                                                                                                                                                                                                                                                                                                                                                                                                                                                                                                                                                                                                                                                                                                                                                                                                                                                                                                                                                                                                                                                                                                                                                                                                                                                                                                                                                                                                                                                                                                                                                                                                                                                                                                                                                                                                                                                                                                                                                                                                                                                                                                                                                                                                                                                                                                                                                                                                                                                                                                                                                                                                                                                                                                                                                                                                                                                                                                                                                                                                                                                                                                                                                                                                                                                                                                                                                                                                                                                                                                                                                                                                                                                                                                                                                                                                                                                                                                                                                                                                                                                                                                                                                                                                                                                                                                                                                                                                                                                                                                                                                                                                                                                                                                                                                                                                                                                                                                                                                                                                                                                                                                                                                                                                                                                                                                                                                                                                                                                                                                                                                                                                                                                                                                                                                                                                                                                                                                                                                                                                                                                                                                                                                                                                                                                                                                                                                                                                                                                                                                                                                                                                                                                                                                                                                                                                                                                                                                                                                                                                                                                                                                                                                                                                                                                                                                                                                                                                                                                                                                                                                                                                                                                                                                                                                                                                                                                                                                                                                                                                                                                                                                                                                                                                                                                                                                                                                                                                                                                                                                                                                                                                                                                                                                                                                                                                                                                                                                                                                                                                                                                                                                                                                                                                                                                                                                                                                                                                                                                                                                                                                                                                                                                                                                                                                                                                                                                                                                                                                                                                                                                                                                                                                                                                                                                                                                                                                                                                                                                                                                                                                                                                                                                                                                                                                                                                                                                                                                                                                                                                                                                                                                                                                                                                                                                                                                                                                                                                                                                                                                                                                                                                                                                                                                                                                                                                                                                                                                                                                                                                                                                                                                                                                                                                                                                                                                                                                                                                                                                                                                                                                                                                                                                                                                                                                                                                                                                                                                                                                                                                                                                                                                                                                                                                                                                                                                                                                                                                                                                                                                                                                                                                                                                                                                                                                                                                                                                                                                                                                                                                                                                                                                                                                                                                                                                                                                                                                                                                                                                                                                                                                                                                                                                                                                                                                                                                                                                                                                                                                                                                                                                                                                                                                                                                                                                                                                                                                                                                                                                                                                                                                                                                                                                                                                                                                                                                                                                                                                                                                                                                                                                                                                                                                                                                                                                                                                                                                                                                                                                                                                                                                                                                                                                                                                                                                                                                                                                                                                                                                                                                                                                                                                                                                                                                                                                                                                                                                                                                                                                                                                                                                                                                                                                                                                                                                                                                                                                                                                                                                                                                                                                                                                                                                                                                                                                                                                                                                                                                                                                                                                                                                                                                                                                                                                                                                                                                                                                                                                                                                                                                                                                                                                                                                                                                                                                                                                                                                                                                                                                                                                                                                                                                                                                                                                                                                                                                                                                                                                                                                                                                                                                                                                                                                                                                                                                                                                                                                                                ^\u001b[0m\n\u001b[1;31mSyntaxError\u001b[0m\u001b[1;31m:\u001b[0m unterminated string literal (detected at line 1)\n"
     ]
    }
   ],
   "source": [
    "movies['crew'] = movies['crew'].apply(fetch_director)"
   ]
  },
  {
   "cell_type": "code",
   "execution_count": 21,
   "metadata": {
    "execution": {
     "iopub.execute_input": "2021-06-21T12:34:54.994779Z",
     "iopub.status.busy": "2021-06-21T12:34:54.994397Z",
     "iopub.status.idle": "2021-06-21T12:34:55.019276Z",
     "shell.execute_reply": "2021-06-21T12:34:55.017718Z",
     "shell.execute_reply.started": "2021-06-21T12:34:54.994738Z"
    }
   },
   "outputs": [
    {
     "data": {
      "text/html": [
       "<div>\n",
       "<style scoped>\n",
       "    .dataframe tbody tr th:only-of-type {\n",
       "        vertical-align: middle;\n",
       "    }\n",
       "\n",
       "    .dataframe tbody tr th {\n",
       "        vertical-align: top;\n",
       "    }\n",
       "\n",
       "    .dataframe thead th {\n",
       "        text-align: right;\n",
       "    }\n",
       "</style>\n",
       "<table border=\"1\" class=\"dataframe\">\n",
       "  <thead>\n",
       "    <tr style=\"text-align: right;\">\n",
       "      <th></th>\n",
       "      <th>movie_id</th>\n",
       "      <th>title</th>\n",
       "      <th>overview</th>\n",
       "      <th>genres</th>\n",
       "      <th>keywords</th>\n",
       "      <th>cast</th>\n",
       "      <th>crew</th>\n",
       "    </tr>\n",
       "  </thead>\n",
       "  <tbody>\n",
       "    <tr>\n",
       "      <th>1692</th>\n",
       "      <td>9449</td>\n",
       "      <td>The Borrowers</td>\n",
       "      <td>The four-inch-tall Clock family secretly share...</td>\n",
       "      <td>[Adventure, Fantasy, Action, Comedy, Family]</td>\n",
       "      <td>[dwarves, household, lawyer, little people, ch...</td>\n",
       "      <td>[John Goodman, Jim Broadbent, Celia Imrie]</td>\n",
       "      <td>[{\"credit_id\": \"570aea0992514111f20001e3\", \"de...</td>\n",
       "    </tr>\n",
       "    <tr>\n",
       "      <th>4008</th>\n",
       "      <td>14137</td>\n",
       "      <td>Beer League</td>\n",
       "      <td>An unemployed slacker (Lange) inspires his sof...</td>\n",
       "      <td>[Comedy]</td>\n",
       "      <td>[baseball, sport]</td>\n",
       "      <td>[Artie Lange, Ralph Macchio, Anthony DeSando]</td>\n",
       "      <td>[{\"credit_id\": \"565051009251414b01006e33\", \"de...</td>\n",
       "    </tr>\n",
       "    <tr>\n",
       "      <th>758</th>\n",
       "      <td>12201</td>\n",
       "      <td>Edge of Darkness</td>\n",
       "      <td>As a seasoned homicide detective, Thomas Crave...</td>\n",
       "      <td>[Crime, Drama, Mystery, Thriller]</td>\n",
       "      <td>[murder, violence, death of daughter, homicide...</td>\n",
       "      <td>[Mel Gibson, Ray Winstone, Danny Huston]</td>\n",
       "      <td>[{\"credit_id\": \"52fe44c99251416c75040e1b\", \"de...</td>\n",
       "    </tr>\n",
       "    <tr>\n",
       "      <th>3372</th>\n",
       "      <td>11051</td>\n",
       "      <td>The Last Temptation of Christ</td>\n",
       "      <td>Jesus, a humble Judean carpenter beginning to ...</td>\n",
       "      <td>[Drama]</td>\n",
       "      <td>[christianity, traitor, jesus christ, roman, c...</td>\n",
       "      <td>[Willem Dafoe, Harvey Keitel, Barbara Hershey]</td>\n",
       "      <td>[{\"credit_id\": \"52fe43eb9251416c750231a3\", \"de...</td>\n",
       "    </tr>\n",
       "    <tr>\n",
       "      <th>2744</th>\n",
       "      <td>222899</td>\n",
       "      <td>About Last Night</td>\n",
       "      <td>A modern reimagining of the classic romantic c...</td>\n",
       "      <td>[Comedy, Romance]</td>\n",
       "      <td>[duringcreditsstinger]</td>\n",
       "      <td>[Kevin Hart, Michael Ealy, Regina Hall]</td>\n",
       "      <td>[{\"credit_id\": \"52fe4e009251416c75148111\", \"de...</td>\n",
       "    </tr>\n",
       "  </tbody>\n",
       "</table>\n",
       "</div>"
      ],
      "text/plain": [
       "     movie_id                          title  \\\n",
       "1692     9449                  The Borrowers   \n",
       "4008    14137                    Beer League   \n",
       "758     12201               Edge of Darkness   \n",
       "3372    11051  The Last Temptation of Christ   \n",
       "2744   222899               About Last Night   \n",
       "\n",
       "                                               overview  \\\n",
       "1692  The four-inch-tall Clock family secretly share...   \n",
       "4008  An unemployed slacker (Lange) inspires his sof...   \n",
       "758   As a seasoned homicide detective, Thomas Crave...   \n",
       "3372  Jesus, a humble Judean carpenter beginning to ...   \n",
       "2744  A modern reimagining of the classic romantic c...   \n",
       "\n",
       "                                            genres  \\\n",
       "1692  [Adventure, Fantasy, Action, Comedy, Family]   \n",
       "4008                                      [Comedy]   \n",
       "758              [Crime, Drama, Mystery, Thriller]   \n",
       "3372                                       [Drama]   \n",
       "2744                             [Comedy, Romance]   \n",
       "\n",
       "                                               keywords  \\\n",
       "1692  [dwarves, household, lawyer, little people, ch...   \n",
       "4008                                  [baseball, sport]   \n",
       "758   [murder, violence, death of daughter, homicide...   \n",
       "3372  [christianity, traitor, jesus christ, roman, c...   \n",
       "2744                             [duringcreditsstinger]   \n",
       "\n",
       "                                                cast  \\\n",
       "1692      [John Goodman, Jim Broadbent, Celia Imrie]   \n",
       "4008   [Artie Lange, Ralph Macchio, Anthony DeSando]   \n",
       "758         [Mel Gibson, Ray Winstone, Danny Huston]   \n",
       "3372  [Willem Dafoe, Harvey Keitel, Barbara Hershey]   \n",
       "2744         [Kevin Hart, Michael Ealy, Regina Hall]   \n",
       "\n",
       "                                                   crew  \n",
       "1692  [{\"credit_id\": \"570aea0992514111f20001e3\", \"de...  \n",
       "4008  [{\"credit_id\": \"565051009251414b01006e33\", \"de...  \n",
       "758   [{\"credit_id\": \"52fe44c99251416c75040e1b\", \"de...  \n",
       "3372  [{\"credit_id\": \"52fe43eb9251416c750231a3\", \"de...  \n",
       "2744  [{\"credit_id\": \"52fe4e009251416c75148111\", \"de...  "
      ]
     },
     "execution_count": 21,
     "metadata": {},
     "output_type": "execute_result"
    }
   ],
   "source": [
    "\n",
    "movies.sample(5)"
   ]
  },
  {
   "cell_type": "code",
   "execution_count": 22,
   "metadata": {
    "execution": {
     "iopub.execute_input": "2021-06-21T12:37:20.073320Z",
     "iopub.status.busy": "2021-06-21T12:37:20.072749Z",
     "iopub.status.idle": "2021-06-21T12:37:20.079118Z",
     "shell.execute_reply": "2021-06-21T12:37:20.077997Z",
     "shell.execute_reply.started": "2021-06-21T12:37:20.073270Z"
    }
   },
   "outputs": [],
   "source": [
    "def collapse(L):\n",
    "    L1 = []\n",
    "    for i in L:\n",
    "        L1.append(i.replace(\" \",\"\"))\n",
    "    return L1"
   ]
  },
  {
   "cell_type": "code",
   "execution_count": 23,
   "metadata": {
    "execution": {
     "iopub.execute_input": "2021-06-21T12:37:21.283329Z",
     "iopub.status.busy": "2021-06-21T12:37:21.282768Z",
     "iopub.status.idle": "2021-06-21T12:37:21.486755Z",
     "shell.execute_reply": "2021-06-21T12:37:21.485878Z",
     "shell.execute_reply.started": "2021-06-21T12:37:21.283292Z"
    }
   },
   "outputs": [],
   "source": [
    "movies['cast'] = movies['cast'].apply(collapse)\n",
    "movies['crew'] = movies['crew'].apply(collapse)\n",
    "movies['genres'] = movies['genres'].apply(collapse)\n",
    "movies['keywords'] = movies['keywords'].apply(collapse)"
   ]
  },
  {
   "cell_type": "code",
   "execution_count": 24,
   "metadata": {
    "execution": {
     "iopub.execute_input": "2021-06-21T12:35:23.278589Z",
     "iopub.status.busy": "2021-06-21T12:35:23.278025Z",
     "iopub.status.idle": "2021-06-21T12:35:23.311346Z",
     "shell.execute_reply": "2021-06-21T12:35:23.309971Z",
     "shell.execute_reply.started": "2021-06-21T12:35:23.278539Z"
    }
   },
   "outputs": [
    {
     "data": {
      "text/html": [
       "<div>\n",
       "<style scoped>\n",
       "    .dataframe tbody tr th:only-of-type {\n",
       "        vertical-align: middle;\n",
       "    }\n",
       "\n",
       "    .dataframe tbody tr th {\n",
       "        vertical-align: top;\n",
       "    }\n",
       "\n",
       "    .dataframe thead th {\n",
       "        text-align: right;\n",
       "    }\n",
       "</style>\n",
       "<table border=\"1\" class=\"dataframe\">\n",
       "  <thead>\n",
       "    <tr style=\"text-align: right;\">\n",
       "      <th></th>\n",
       "      <th>movie_id</th>\n",
       "      <th>title</th>\n",
       "      <th>overview</th>\n",
       "      <th>genres</th>\n",
       "      <th>keywords</th>\n",
       "      <th>cast</th>\n",
       "      <th>crew</th>\n",
       "    </tr>\n",
       "  </thead>\n",
       "  <tbody>\n",
       "    <tr>\n",
       "      <th>0</th>\n",
       "      <td>19995</td>\n",
       "      <td>Avatar</td>\n",
       "      <td>In the 22nd century, a paraplegic Marine is di...</td>\n",
       "      <td>[Action, Adventure, Fantasy, ScienceFiction]</td>\n",
       "      <td>[cultureclash, future, spacewar, spacecolony, ...</td>\n",
       "      <td>[SamWorthington, ZoeSaldana, SigourneyWeaver]</td>\n",
       "      <td>[[, {, \", c, r, e, d, i, t, _, i, d, \", :, , \"...</td>\n",
       "    </tr>\n",
       "    <tr>\n",
       "      <th>1</th>\n",
       "      <td>285</td>\n",
       "      <td>Pirates of the Caribbean: At World's End</td>\n",
       "      <td>Captain Barbossa, long believed to be dead, ha...</td>\n",
       "      <td>[Adventure, Fantasy, Action]</td>\n",
       "      <td>[ocean, drugabuse, exoticisland, eastindiatrad...</td>\n",
       "      <td>[JohnnyDepp, OrlandoBloom, KeiraKnightley]</td>\n",
       "      <td>[[, {, \", c, r, e, d, i, t, _, i, d, \", :, , \"...</td>\n",
       "    </tr>\n",
       "    <tr>\n",
       "      <th>2</th>\n",
       "      <td>206647</td>\n",
       "      <td>Spectre</td>\n",
       "      <td>A cryptic message from Bond’s past sends him o...</td>\n",
       "      <td>[Action, Adventure, Crime]</td>\n",
       "      <td>[spy, basedonnovel, secretagent, sequel, mi6, ...</td>\n",
       "      <td>[DanielCraig, ChristophWaltz, LéaSeydoux]</td>\n",
       "      <td>[[, {, \", c, r, e, d, i, t, _, i, d, \", :, , \"...</td>\n",
       "    </tr>\n",
       "    <tr>\n",
       "      <th>3</th>\n",
       "      <td>49026</td>\n",
       "      <td>The Dark Knight Rises</td>\n",
       "      <td>Following the death of District Attorney Harve...</td>\n",
       "      <td>[Action, Crime, Drama, Thriller]</td>\n",
       "      <td>[dccomics, crimefighter, terrorist, secretiden...</td>\n",
       "      <td>[ChristianBale, MichaelCaine, GaryOldman]</td>\n",
       "      <td>[[, {, \", c, r, e, d, i, t, _, i, d, \", :, , \"...</td>\n",
       "    </tr>\n",
       "    <tr>\n",
       "      <th>4</th>\n",
       "      <td>49529</td>\n",
       "      <td>John Carter</td>\n",
       "      <td>John Carter is a war-weary, former military ca...</td>\n",
       "      <td>[Action, Adventure, ScienceFiction]</td>\n",
       "      <td>[basedonnovel, mars, medallion, spacetravel, p...</td>\n",
       "      <td>[TaylorKitsch, LynnCollins, SamanthaMorton]</td>\n",
       "      <td>[[, {, \", c, r, e, d, i, t, _, i, d, \", :, , \"...</td>\n",
       "    </tr>\n",
       "  </tbody>\n",
       "</table>\n",
       "</div>"
      ],
      "text/plain": [
       "  movie_id                                     title  \\\n",
       "0    19995                                    Avatar   \n",
       "1      285  Pirates of the Caribbean: At World's End   \n",
       "2   206647                                   Spectre   \n",
       "3    49026                     The Dark Knight Rises   \n",
       "4    49529                               John Carter   \n",
       "\n",
       "                                            overview  \\\n",
       "0  In the 22nd century, a paraplegic Marine is di...   \n",
       "1  Captain Barbossa, long believed to be dead, ha...   \n",
       "2  A cryptic message from Bond’s past sends him o...   \n",
       "3  Following the death of District Attorney Harve...   \n",
       "4  John Carter is a war-weary, former military ca...   \n",
       "\n",
       "                                         genres  \\\n",
       "0  [Action, Adventure, Fantasy, ScienceFiction]   \n",
       "1                  [Adventure, Fantasy, Action]   \n",
       "2                    [Action, Adventure, Crime]   \n",
       "3              [Action, Crime, Drama, Thriller]   \n",
       "4           [Action, Adventure, ScienceFiction]   \n",
       "\n",
       "                                            keywords  \\\n",
       "0  [cultureclash, future, spacewar, spacecolony, ...   \n",
       "1  [ocean, drugabuse, exoticisland, eastindiatrad...   \n",
       "2  [spy, basedonnovel, secretagent, sequel, mi6, ...   \n",
       "3  [dccomics, crimefighter, terrorist, secretiden...   \n",
       "4  [basedonnovel, mars, medallion, spacetravel, p...   \n",
       "\n",
       "                                            cast  \\\n",
       "0  [SamWorthington, ZoeSaldana, SigourneyWeaver]   \n",
       "1     [JohnnyDepp, OrlandoBloom, KeiraKnightley]   \n",
       "2      [DanielCraig, ChristophWaltz, LéaSeydoux]   \n",
       "3      [ChristianBale, MichaelCaine, GaryOldman]   \n",
       "4    [TaylorKitsch, LynnCollins, SamanthaMorton]   \n",
       "\n",
       "                                                crew  \n",
       "0  [[, {, \", c, r, e, d, i, t, _, i, d, \", :, , \"...  \n",
       "1  [[, {, \", c, r, e, d, i, t, _, i, d, \", :, , \"...  \n",
       "2  [[, {, \", c, r, e, d, i, t, _, i, d, \", :, , \"...  \n",
       "3  [[, {, \", c, r, e, d, i, t, _, i, d, \", :, , \"...  \n",
       "4  [[, {, \", c, r, e, d, i, t, _, i, d, \", :, , \"...  "
      ]
     },
     "execution_count": 24,
     "metadata": {},
     "output_type": "execute_result"
    }
   ],
   "source": [
    "movies.head()"
   ]
  },
  {
   "cell_type": "code",
   "execution_count": 25,
   "metadata": {
    "execution": {
     "iopub.execute_input": "2021-06-21T12:37:31.936583Z",
     "iopub.status.busy": "2021-06-21T12:37:31.936003Z",
     "iopub.status.idle": "2021-06-21T12:37:31.975155Z",
     "shell.execute_reply": "2021-06-21T12:37:31.973928Z",
     "shell.execute_reply.started": "2021-06-21T12:37:31.936546Z"
    }
   },
   "outputs": [],
   "source": [
    "movies['overview'] = movies['overview'].apply(lambda x:x.split())"
   ]
  },
  {
   "cell_type": "code",
   "execution_count": 26,
   "metadata": {
    "execution": {
     "iopub.execute_input": "2021-06-21T12:37:34.466349Z",
     "iopub.status.busy": "2021-06-21T12:37:34.465925Z",
     "iopub.status.idle": "2021-06-21T12:37:34.572742Z",
     "shell.execute_reply": "2021-06-21T12:37:34.571676Z",
     "shell.execute_reply.started": "2021-06-21T12:37:34.466313Z"
    }
   },
   "outputs": [],
   "source": [
    "movies['tags'] = movies['overview'] + movies['genres'] + movies['keywords'] + movies['cast'] + movies['crew']"
   ]
  },
  {
   "cell_type": "code",
   "execution_count": 27,
   "metadata": {
    "execution": {
     "iopub.execute_input": "2021-06-21T12:37:40.975174Z",
     "iopub.status.busy": "2021-06-21T12:37:40.974644Z",
     "iopub.status.idle": "2021-06-21T12:37:40.981843Z",
     "shell.execute_reply": "2021-06-21T12:37:40.981059Z",
     "shell.execute_reply.started": "2021-06-21T12:37:40.975140Z"
    }
   },
   "outputs": [],
   "source": [
    "new = movies.drop(columns=['overview','genres','keywords','cast','crew'])\n",
    "#new.head()"
   ]
  },
  {
   "cell_type": "code",
   "execution_count": 28,
   "metadata": {
    "execution": {
     "iopub.execute_input": "2021-06-21T12:38:00.131473Z",
     "iopub.status.busy": "2021-06-21T12:38:00.130879Z",
     "iopub.status.idle": "2021-06-21T12:38:00.160438Z",
     "shell.execute_reply": "2021-06-21T12:38:00.159476Z",
     "shell.execute_reply.started": "2021-06-21T12:38:00.131439Z"
    }
   },
   "outputs": [
    {
     "data": {
      "text/html": [
       "<div>\n",
       "<style scoped>\n",
       "    .dataframe tbody tr th:only-of-type {\n",
       "        vertical-align: middle;\n",
       "    }\n",
       "\n",
       "    .dataframe tbody tr th {\n",
       "        vertical-align: top;\n",
       "    }\n",
       "\n",
       "    .dataframe thead th {\n",
       "        text-align: right;\n",
       "    }\n",
       "</style>\n",
       "<table border=\"1\" class=\"dataframe\">\n",
       "  <thead>\n",
       "    <tr style=\"text-align: right;\">\n",
       "      <th></th>\n",
       "      <th>movie_id</th>\n",
       "      <th>title</th>\n",
       "      <th>tags</th>\n",
       "    </tr>\n",
       "  </thead>\n",
       "  <tbody>\n",
       "    <tr>\n",
       "      <th>0</th>\n",
       "      <td>19995</td>\n",
       "      <td>Avatar</td>\n",
       "      <td>In the 22nd century, a paraplegic Marine is di...</td>\n",
       "    </tr>\n",
       "    <tr>\n",
       "      <th>1</th>\n",
       "      <td>285</td>\n",
       "      <td>Pirates of the Caribbean: At World's End</td>\n",
       "      <td>Captain Barbossa, long believed to be dead, ha...</td>\n",
       "    </tr>\n",
       "    <tr>\n",
       "      <th>2</th>\n",
       "      <td>206647</td>\n",
       "      <td>Spectre</td>\n",
       "      <td>A cryptic message from Bond’s past sends him o...</td>\n",
       "    </tr>\n",
       "    <tr>\n",
       "      <th>3</th>\n",
       "      <td>49026</td>\n",
       "      <td>The Dark Knight Rises</td>\n",
       "      <td>Following the death of District Attorney Harve...</td>\n",
       "    </tr>\n",
       "    <tr>\n",
       "      <th>4</th>\n",
       "      <td>49529</td>\n",
       "      <td>John Carter</td>\n",
       "      <td>John Carter is a war-weary, former military ca...</td>\n",
       "    </tr>\n",
       "  </tbody>\n",
       "</table>\n",
       "</div>"
      ],
      "text/plain": [
       "  movie_id                                     title  \\\n",
       "0    19995                                    Avatar   \n",
       "1      285  Pirates of the Caribbean: At World's End   \n",
       "2   206647                                   Spectre   \n",
       "3    49026                     The Dark Knight Rises   \n",
       "4    49529                               John Carter   \n",
       "\n",
       "                                                tags  \n",
       "0  In the 22nd century, a paraplegic Marine is di...  \n",
       "1  Captain Barbossa, long believed to be dead, ha...  \n",
       "2  A cryptic message from Bond’s past sends him o...  \n",
       "3  Following the death of District Attorney Harve...  \n",
       "4  John Carter is a war-weary, former military ca...  "
      ]
     },
     "execution_count": 28,
     "metadata": {},
     "output_type": "execute_result"
    }
   ],
   "source": [
    "new['tags'] = new['tags'].apply(lambda x: \" \".join(x))\n",
    "new.head()"
   ]
  },
  {
   "cell_type": "code",
   "execution_count": 29,
   "metadata": {
    "execution": {
     "iopub.execute_input": "2021-06-21T12:38:06.545110Z",
     "iopub.status.busy": "2021-06-21T12:38:06.544599Z",
     "iopub.status.idle": "2021-06-21T12:38:07.488307Z",
     "shell.execute_reply": "2021-06-21T12:38:07.487238Z",
     "shell.execute_reply.started": "2021-06-21T12:38:06.545079Z"
    }
   },
   "outputs": [],
   "source": [
    "from sklearn.feature_extraction.text import CountVectorizer \n",
    "CountVectorizer = CountVectorizer(max_features=5000,stop_words='english')\n",
    "    "
   ]
  },
  {
   "cell_type": "code",
   "execution_count": 30,
   "metadata": {
    "execution": {
     "iopub.execute_input": "2021-06-21T12:38:10.164314Z",
     "iopub.status.busy": "2021-06-21T12:38:10.163889Z",
     "iopub.status.idle": "2021-06-21T12:38:10.821200Z",
     "shell.execute_reply": "2021-06-21T12:38:10.820175Z",
     "shell.execute_reply.started": "2021-06-21T12:38:10.164279Z"
    }
   },
   "outputs": [],
   "source": [
    "vector = CountVectorizer.fit_transform(new['tags']).toarray()"
   ]
  },
  {
   "cell_type": "code",
   "execution_count": 31,
   "metadata": {
    "execution": {
     "iopub.execute_input": "2021-06-19T14:00:41.894747Z",
     "iopub.status.busy": "2021-06-19T14:00:41.894223Z",
     "iopub.status.idle": "2021-06-19T14:00:41.900786Z",
     "shell.execute_reply": "2021-06-19T14:00:41.899989Z",
     "shell.execute_reply.started": "2021-06-19T14:00:41.894699Z"
    }
   },
   "outputs": [
    {
     "data": {
      "text/plain": [
       "(4802, 5000)"
      ]
     },
     "execution_count": 31,
     "metadata": {},
     "output_type": "execute_result"
    }
   ],
   "source": [
    "vector.shape"
   ]
  },
  {
   "cell_type": "code",
   "execution_count": 32,
   "metadata": {
    "execution": {
     "iopub.execute_input": "2021-06-21T12:38:13.339451Z",
     "iopub.status.busy": "2021-06-21T12:38:13.339041Z",
     "iopub.status.idle": "2021-06-21T12:38:13.390575Z",
     "shell.execute_reply": "2021-06-21T12:38:13.389373Z",
     "shell.execute_reply.started": "2021-06-21T12:38:13.339412Z"
    }
   },
   "outputs": [],
   "source": [
    "from sklearn.metrics.pairwise import cosine_similarity"
   ]
  },
  {
   "cell_type": "code",
   "execution_count": 33,
   "metadata": {
    "execution": {
     "iopub.execute_input": "2021-06-21T12:38:15.770001Z",
     "iopub.status.busy": "2021-06-21T12:38:15.769495Z",
     "iopub.status.idle": "2021-06-21T12:38:18.170463Z",
     "shell.execute_reply": "2021-06-21T12:38:18.169319Z",
     "shell.execute_reply.started": "2021-06-21T12:38:15.769960Z"
    }
   },
   "outputs": [],
   "source": [
    "similarity = cosine_similarity(vector)"
   ]
  },
  {
   "cell_type": "code",
   "execution_count": 34,
   "metadata": {
    "execution": {
     "iopub.execute_input": "2021-06-19T14:06:45.473087Z",
     "iopub.status.busy": "2021-06-19T14:06:45.472777Z",
     "iopub.status.idle": "2021-06-19T14:06:45.479647Z",
     "shell.execute_reply": "2021-06-19T14:06:45.478831Z",
     "shell.execute_reply.started": "2021-06-19T14:06:45.473061Z"
    }
   },
   "outputs": [
    {
     "data": {
      "text/plain": [
       "array([[1.        , 0.08858079, 0.05905386, ..., 0.02423931, 0.02739983,\n",
       "        0.        ],\n",
       "       [0.08858079, 1.        , 0.06451613, ..., 0.02648136, 0.        ,\n",
       "        0.        ],\n",
       "       [0.05905386, 0.06451613, 1.        , ..., 0.02648136, 0.        ,\n",
       "        0.        ],\n",
       "       ...,\n",
       "       [0.02423931, 0.02648136, 0.02648136, ..., 1.        , 0.07372098,\n",
       "        0.04721922],\n",
       "       [0.02739983, 0.        , 0.        , ..., 0.07372098, 1.        ,\n",
       "        0.05337605],\n",
       "       [0.        , 0.        , 0.        , ..., 0.04721922, 0.05337605,\n",
       "        1.        ]])"
      ]
     },
     "execution_count": 34,
     "metadata": {},
     "output_type": "execute_result"
    }
   ],
   "source": [
    "similarity"
   ]
  },
  {
   "cell_type": "code",
   "execution_count": 35,
   "metadata": {
    "execution": {
     "iopub.execute_input": "2021-06-19T14:08:46.716222Z",
     "iopub.status.busy": "2021-06-19T14:08:46.7159Z",
     "iopub.status.idle": "2021-06-19T14:08:46.7239Z",
     "shell.execute_reply": "2021-06-19T14:08:46.722946Z",
     "shell.execute_reply.started": "2021-06-19T14:08:46.716196Z"
    }
   },
   "outputs": [
    {
     "data": {
      "text/plain": [
       "744"
      ]
     },
     "execution_count": 35,
     "metadata": {},
     "output_type": "execute_result"
    }
   ],
   "source": [
    "new[new['title'] == 'The Lego Movie'].index[0]"
   ]
  },
  {
   "cell_type": "code",
   "execution_count": 36,
   "metadata": {
    "execution": {
     "iopub.execute_input": "2021-06-21T12:38:22.542900Z",
     "iopub.status.busy": "2021-06-21T12:38:22.542487Z",
     "iopub.status.idle": "2021-06-21T12:38:22.549786Z",
     "shell.execute_reply": "2021-06-21T12:38:22.548271Z",
     "shell.execute_reply.started": "2021-06-21T12:38:22.542867Z"
    }
   },
   "outputs": [],
   "source": [
    "def recommend(movie):\n",
    "    index = new[new['title'] == movie].index[0]\n",
    "    distances = sorted(list(enumerate(similarity[index])),reverse=True,key = lambda x: x[1])\n",
    "    for i in distances[1:6]:\n",
    "        print(new.iloc[i[0]].title)\n",
    "        \n",
    "    "
   ]
  },
  {
   "cell_type": "code",
   "execution_count": 37,
   "metadata": {
    "execution": {
     "iopub.execute_input": "2021-06-21T12:38:24.914650Z",
     "iopub.status.busy": "2021-06-21T12:38:24.914258Z",
     "iopub.status.idle": "2021-06-21T12:38:24.930018Z",
     "shell.execute_reply": "2021-06-21T12:38:24.928876Z",
     "shell.execute_reply.started": "2021-06-21T12:38:24.914616Z"
    }
   },
   "outputs": [
    {
     "name": "stdout",
     "output_type": "stream",
     "text": [
      "The Motel\n",
      "Brothers\n",
      "Cape Fear\n",
      "Nowhere to Run\n",
      "Ghost\n"
     ]
    }
   ],
   "source": [
    "recommend('Gandhi')"
   ]
  },
  {
   "cell_type": "code",
   "execution_count": 38,
   "metadata": {
    "execution": {
     "iopub.execute_input": "2021-06-21T12:39:59.606924Z",
     "iopub.status.busy": "2021-06-21T12:39:59.606475Z",
     "iopub.status.idle": "2021-06-21T12:39:59.612177Z",
     "shell.execute_reply": "2021-06-21T12:39:59.610858Z",
     "shell.execute_reply.started": "2021-06-21T12:39:59.606890Z"
    }
   },
   "outputs": [],
   "source": [
    "import pickle"
   ]
  },
  {
   "cell_type": "code",
   "execution_count": 39,
   "metadata": {
    "execution": {
     "iopub.execute_input": "2021-06-21T12:40:53.373581Z",
     "iopub.status.busy": "2021-06-21T12:40:53.373186Z",
     "iopub.status.idle": "2021-06-21T12:40:53.784869Z",
     "shell.execute_reply": "2021-06-21T12:40:53.783635Z",
     "shell.execute_reply.started": "2021-06-21T12:40:53.373547Z"
    }
   },
   "outputs": [],
   "source": [
    "pickle.dump(new,open('movie_list.pkl','wb'))\n",
    "pickle.dump(similarity,open('similarity.pkl','wb'))"
   ]
  },
  {
   "cell_type": "code",
   "execution_count": 40,
   "metadata": {},
   "outputs": [
    {
     "data": {
      "text/plain": [
       "array(['Avatar', \"Pirates of the Caribbean: At World's End\", 'Spectre',\n",
       "       ..., 'Signed, Sealed, Delivered', 'Shanghai Calling',\n",
       "       'My Date with Drew'], dtype=object)"
      ]
     },
     "execution_count": 40,
     "metadata": {},
     "output_type": "execute_result"
    }
   ],
   "source": [
    "new['title'].values"
   ]
  },
  {
   "cell_type": "code",
   "execution_count": 41,
   "metadata": {},
   "outputs": [],
   "source": [
    "pickle.dump(new.to_dict(),open('movie_dict.pkl','wb'))"
   ]
  },
  {
   "cell_type": "code",
   "execution_count": 42,
   "metadata": {},
   "outputs": [],
   "source": [
    "pickle.dump(similarity,open('similarity.pkl','wb'))"
   ]
  },
  {
   "cell_type": "code",
   "execution_count": null,
   "metadata": {},
   "outputs": [],
   "source": []
  }
 ],
 "metadata": {
  "kernelspec": {
   "display_name": "Python 3 (ipykernel)",
   "language": "python",
   "name": "python3"
  },
  "language_info": {
   "codemirror_mode": {
    "name": "ipython",
    "version": 3
   },
   "file_extension": ".py",
   "mimetype": "text/x-python",
   "name": "python",
   "nbconvert_exporter": "python",
   "pygments_lexer": "ipython3",
   "version": "3.11.5"
  }
 },
 "nbformat": 4,
 "nbformat_minor": 4
}
